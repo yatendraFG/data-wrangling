{
 "cells": [
  {
   "cell_type": "code",
   "execution_count": null,
   "id": "2159a523-bcef-468e-ab1b-921de07a04b7",
   "metadata": {},
   "outputs": [],
   "source": [
    "#import 3 library to read, Analysis   "
   ]
  },
  {
   "cell_type": "code",
   "execution_count": 283,
   "id": "62cf972e-4ceb-4495-bf17-8f8e06ae3aee",
   "metadata": {},
   "outputs": [
    {
     "data": {
      "text/html": [
       "<div>\n",
       "<style scoped>\n",
       "    .dataframe tbody tr th:only-of-type {\n",
       "        vertical-align: middle;\n",
       "    }\n",
       "\n",
       "    .dataframe tbody tr th {\n",
       "        vertical-align: top;\n",
       "    }\n",
       "\n",
       "    .dataframe thead th {\n",
       "        text-align: right;\n",
       "    }\n",
       "</style>\n",
       "<table border=\"1\" class=\"dataframe\">\n",
       "  <thead>\n",
       "    <tr style=\"text-align: right;\">\n",
       "      <th></th>\n",
       "      <th>instant</th>\n",
       "      <th>dteday</th>\n",
       "      <th>season</th>\n",
       "      <th>yr</th>\n",
       "      <th>mnth</th>\n",
       "      <th>hr</th>\n",
       "      <th>holiday</th>\n",
       "      <th>weekday</th>\n",
       "      <th>weathersit</th>\n",
       "      <th>temp</th>\n",
       "    </tr>\n",
       "  </thead>\n",
       "  <tbody>\n",
       "    <tr>\n",
       "      <th>0</th>\n",
       "      <td>1</td>\n",
       "      <td>01-01-2011</td>\n",
       "      <td>1</td>\n",
       "      <td>0</td>\n",
       "      <td>1</td>\n",
       "      <td>0</td>\n",
       "      <td>False</td>\n",
       "      <td>6</td>\n",
       "      <td>1</td>\n",
       "      <td>0.24</td>\n",
       "    </tr>\n",
       "    <tr>\n",
       "      <th>1</th>\n",
       "      <td>2</td>\n",
       "      <td>01-01-2011</td>\n",
       "      <td>1</td>\n",
       "      <td>0</td>\n",
       "      <td>1</td>\n",
       "      <td>1</td>\n",
       "      <td>False</td>\n",
       "      <td>6</td>\n",
       "      <td>1</td>\n",
       "      <td>0.22</td>\n",
       "    </tr>\n",
       "    <tr>\n",
       "      <th>2</th>\n",
       "      <td>3</td>\n",
       "      <td>01-01-2011</td>\n",
       "      <td>1</td>\n",
       "      <td>0</td>\n",
       "      <td>1</td>\n",
       "      <td>2</td>\n",
       "      <td>False</td>\n",
       "      <td>6</td>\n",
       "      <td>1</td>\n",
       "      <td>0.22</td>\n",
       "    </tr>\n",
       "    <tr>\n",
       "      <th>3</th>\n",
       "      <td>4</td>\n",
       "      <td>01-01-2011</td>\n",
       "      <td>1</td>\n",
       "      <td>0</td>\n",
       "      <td>1</td>\n",
       "      <td>3</td>\n",
       "      <td>False</td>\n",
       "      <td>6</td>\n",
       "      <td>1</td>\n",
       "      <td>0.24</td>\n",
       "    </tr>\n",
       "    <tr>\n",
       "      <th>4</th>\n",
       "      <td>5</td>\n",
       "      <td>01-01-2011</td>\n",
       "      <td>1</td>\n",
       "      <td>0</td>\n",
       "      <td>1</td>\n",
       "      <td>4</td>\n",
       "      <td>False</td>\n",
       "      <td>6</td>\n",
       "      <td>1</td>\n",
       "      <td>0.24</td>\n",
       "    </tr>\n",
       "  </tbody>\n",
       "</table>\n",
       "</div>"
      ],
      "text/plain": [
       "   instant      dteday  season  yr  mnth  hr  holiday  weekday  weathersit  \\\n",
       "0        1  01-01-2011       1   0     1   0    False        6           1   \n",
       "1        2  01-01-2011       1   0     1   1    False        6           1   \n",
       "2        3  01-01-2011       1   0     1   2    False        6           1   \n",
       "3        4  01-01-2011       1   0     1   3    False        6           1   \n",
       "4        5  01-01-2011       1   0     1   4    False        6           1   \n",
       "\n",
       "   temp  \n",
       "0  0.24  \n",
       "1  0.22  \n",
       "2  0.22  \n",
       "3  0.24  \n",
       "4  0.24  "
      ]
     },
     "execution_count": 283,
     "metadata": {},
     "output_type": "execute_result"
    }
   ],
   "source": [
    "import pandas as pd\n",
    "import numpy as np\n",
    "import seaborn as sns\n",
    "\n",
    "\n",
    "# Replace 'your_file.csv' with the actual path to your file\n",
    "df1 = pd.read_csv(r'C:\\Users\\PND\\Downloads\\dataset_1 - dataset_1.csv')\n",
    "\n",
    "df1.head()  # Display the first few rows"
   ]
  },
  {
   "cell_type": "code",
   "execution_count": 285,
   "id": "749c2ec4-bbbf-4f04-8b6e-0338b130aac6",
   "metadata": {},
   "outputs": [
    {
     "data": {
      "text/plain": [
       "(610, 10)"
      ]
     },
     "execution_count": 285,
     "metadata": {},
     "output_type": "execute_result"
    }
   ],
   "source": [
    "df1.shape"
   ]
  },
  {
   "cell_type": "code",
   "execution_count": 287,
   "id": "9225a8a1-110d-4c73-93e5-95a241e8ab7f",
   "metadata": {},
   "outputs": [
    {
     "data": {
      "text/plain": [
       "<Axes: xlabel='instant', ylabel='temp'>"
      ]
     },
     "execution_count": 287,
     "metadata": {},
     "output_type": "execute_result"
    },
    {
     "data": {
      "image/png": "[encoded data removed]",
      "text/plain": [
       "<Figure size 640x480 with 1 Axes>"
      ]
     },
     "metadata": {},
     "output_type": "display_data"
    }
   ],
   "source": [
    "df_plt=sns.lineplot(x=\"instant\",y=\"temp\",data=df1) #identifying and detecting outliers visually using boxplot\n",
    "df_plt"
   ]
  },
  {
   "cell_type": "code",
   "execution_count": 289,
   "id": "43e0b2a3-f9e2-4ae0-ae0d-3310e0cf6d52",
   "metadata": {},
   "outputs": [
    {
     "data": {
      "text/plain": [
       "Index(['instant', 'dteday', 'season', 'yr', 'mnth', 'hr', 'holiday', 'weekday',\n",
       "       'weathersit', 'temp'],\n",
       "      dtype='object')"
      ]
     },
     "execution_count": 289,
     "metadata": {},
     "output_type": "execute_result"
    }
   ],
   "source": [
    "df1.columns"
   ]
  },
  {
   "cell_type": "code",
   "execution_count": 291,
   "id": "722d05a8-7085-44c1-87e7-adba4b6623e0",
   "metadata": {},
   "outputs": [
    {
     "name": "stdout",
     "output_type": "stream",
     "text": [
      "<class 'pandas.core.frame.DataFrame'>\n",
      "RangeIndex: 610 entries, 0 to 609\n",
      "Data columns (total 10 columns):\n",
      " #   Column      Non-Null Count  Dtype  \n",
      "---  ------      --------------  -----  \n",
      " 0   instant     610 non-null    int64  \n",
      " 1   dteday      610 non-null    object \n",
      " 2   season      610 non-null    int64  \n",
      " 3   yr          610 non-null    int64  \n",
      " 4   mnth        610 non-null    int64  \n",
      " 5   hr          610 non-null    int64  \n",
      " 6   holiday     610 non-null    bool   \n",
      " 7   weekday     610 non-null    int64  \n",
      " 8   weathersit  610 non-null    int64  \n",
      " 9   temp        610 non-null    float64\n",
      "dtypes: bool(1), float64(1), int64(7), object(1)\n",
      "memory usage: 43.6+ KB\n"
     ]
    }
   ],
   "source": [
    "df1.info()"
   ]
  },
  {
   "cell_type": "code",
   "execution_count": 293,
   "id": "7e884646-4f6d-48d5-917a-84c659081fc5",
   "metadata": {},
   "outputs": [
    {
     "data": {
      "text/plain": [
       "instant         int64\n",
       "dteday         object\n",
       "season          int64\n",
       "yr              int64\n",
       "mnth            int64\n",
       "hr              int64\n",
       "holiday          bool\n",
       "weekday         int64\n",
       "weathersit      int64\n",
       "temp          float64\n",
       "dtype: object"
      ]
     },
     "execution_count": 293,
     "metadata": {},
     "output_type": "execute_result"
    }
   ],
   "source": [
    "df1.dtypes"
   ]
  },
  {
   "cell_type": "code",
   "execution_count": 295,
   "id": "c1b7e5dc-778b-4292-9afd-394270f9d41b",
   "metadata": {},
   "outputs": [
    {
     "data": {
      "text/html": [
       "<div>\n",
       "<style scoped>\n",
       "    .dataframe tbody tr th:only-of-type {\n",
       "        vertical-align: middle;\n",
       "    }\n",
       "\n",
       "    .dataframe tbody tr th {\n",
       "        vertical-align: top;\n",
       "    }\n",
       "\n",
       "    .dataframe thead th {\n",
       "        text-align: right;\n",
       "    }\n",
       "</style>\n",
       "<table border=\"1\" class=\"dataframe\">\n",
       "  <thead>\n",
       "    <tr style=\"text-align: right;\">\n",
       "      <th></th>\n",
       "      <th>instant</th>\n",
       "      <th>season</th>\n",
       "      <th>yr</th>\n",
       "      <th>mnth</th>\n",
       "      <th>hr</th>\n",
       "      <th>weekday</th>\n",
       "      <th>weathersit</th>\n",
       "      <th>temp</th>\n",
       "    </tr>\n",
       "  </thead>\n",
       "  <tbody>\n",
       "    <tr>\n",
       "      <th>count</th>\n",
       "      <td>610.000000</td>\n",
       "      <td>610.0</td>\n",
       "      <td>610.0</td>\n",
       "      <td>610.0</td>\n",
       "      <td>610.000000</td>\n",
       "      <td>610.000000</td>\n",
       "      <td>610.000000</td>\n",
       "      <td>610.000000</td>\n",
       "    </tr>\n",
       "    <tr>\n",
       "      <th>mean</th>\n",
       "      <td>305.500000</td>\n",
       "      <td>1.0</td>\n",
       "      <td>0.0</td>\n",
       "      <td>1.0</td>\n",
       "      <td>11.795082</td>\n",
       "      <td>2.977049</td>\n",
       "      <td>1.477049</td>\n",
       "      <td>0.196885</td>\n",
       "    </tr>\n",
       "    <tr>\n",
       "      <th>std</th>\n",
       "      <td>176.236111</td>\n",
       "      <td>0.0</td>\n",
       "      <td>0.0</td>\n",
       "      <td>0.0</td>\n",
       "      <td>6.852107</td>\n",
       "      <td>2.054943</td>\n",
       "      <td>0.643496</td>\n",
       "      <td>0.081304</td>\n",
       "    </tr>\n",
       "    <tr>\n",
       "      <th>min</th>\n",
       "      <td>1.000000</td>\n",
       "      <td>1.0</td>\n",
       "      <td>0.0</td>\n",
       "      <td>1.0</td>\n",
       "      <td>0.000000</td>\n",
       "      <td>0.000000</td>\n",
       "      <td>1.000000</td>\n",
       "      <td>0.020000</td>\n",
       "    </tr>\n",
       "    <tr>\n",
       "      <th>25%</th>\n",
       "      <td>153.250000</td>\n",
       "      <td>1.0</td>\n",
       "      <td>0.0</td>\n",
       "      <td>1.0</td>\n",
       "      <td>6.000000</td>\n",
       "      <td>1.000000</td>\n",
       "      <td>1.000000</td>\n",
       "      <td>0.160000</td>\n",
       "    </tr>\n",
       "    <tr>\n",
       "      <th>50%</th>\n",
       "      <td>305.500000</td>\n",
       "      <td>1.0</td>\n",
       "      <td>0.0</td>\n",
       "      <td>1.0</td>\n",
       "      <td>12.000000</td>\n",
       "      <td>3.000000</td>\n",
       "      <td>1.000000</td>\n",
       "      <td>0.200000</td>\n",
       "    </tr>\n",
       "    <tr>\n",
       "      <th>75%</th>\n",
       "      <td>457.750000</td>\n",
       "      <td>1.0</td>\n",
       "      <td>0.0</td>\n",
       "      <td>1.0</td>\n",
       "      <td>18.000000</td>\n",
       "      <td>5.000000</td>\n",
       "      <td>2.000000</td>\n",
       "      <td>0.235000</td>\n",
       "    </tr>\n",
       "    <tr>\n",
       "      <th>max</th>\n",
       "      <td>610.000000</td>\n",
       "      <td>1.0</td>\n",
       "      <td>0.0</td>\n",
       "      <td>1.0</td>\n",
       "      <td>23.000000</td>\n",
       "      <td>6.000000</td>\n",
       "      <td>4.000000</td>\n",
       "      <td>0.460000</td>\n",
       "    </tr>\n",
       "  </tbody>\n",
       "</table>\n",
       "</div>"
      ],
      "text/plain": [
       "          instant  season     yr   mnth          hr     weekday  weathersit  \\\n",
       "count  610.000000   610.0  610.0  610.0  610.000000  610.000000  610.000000   \n",
       "mean   305.500000     1.0    0.0    1.0   11.795082    2.977049    1.477049   \n",
       "std    176.236111     0.0    0.0    0.0    6.852107    2.054943    0.643496   \n",
       "min      1.000000     1.0    0.0    1.0    0.000000    0.000000    1.000000   \n",
       "25%    153.250000     1.0    0.0    1.0    6.000000    1.000000    1.000000   \n",
       "50%    305.500000     1.0    0.0    1.0   12.000000    3.000000    1.000000   \n",
       "75%    457.750000     1.0    0.0    1.0   18.000000    5.000000    2.000000   \n",
       "max    610.000000     1.0    0.0    1.0   23.000000    6.000000    4.000000   \n",
       "\n",
       "             temp  \n",
       "count  610.000000  \n",
       "mean     0.196885  \n",
       "std      0.081304  \n",
       "min      0.020000  \n",
       "25%      0.160000  \n",
       "50%      0.200000  \n",
       "75%      0.235000  \n",
       "max      0.460000  "
      ]
     },
     "execution_count": 295,
     "metadata": {},
     "output_type": "execute_result"
    }
   ],
   "source": [
    "df1.describe()"
   ]
  },
  {
   "cell_type": "code",
   "execution_count": 297,
   "id": "24b1ec43-b7bb-491d-9ba8-97c9f60566db",
   "metadata": {},
   "outputs": [
    {
     "data": {
      "text/html": [
       "<div>\n",
       "<style scoped>\n",
       "    .dataframe tbody tr th:only-of-type {\n",
       "        vertical-align: middle;\n",
       "    }\n",
       "\n",
       "    .dataframe tbody tr th {\n",
       "        vertical-align: top;\n",
       "    }\n",
       "\n",
       "    .dataframe thead th {\n",
       "        text-align: right;\n",
       "    }\n",
       "</style>\n",
       "<table border=\"1\" class=\"dataframe\">\n",
       "  <thead>\n",
       "    <tr style=\"text-align: right;\">\n",
       "      <th></th>\n",
       "      <th>instant</th>\n",
       "      <th>dteday</th>\n",
       "      <th>season</th>\n",
       "      <th>yr</th>\n",
       "      <th>mnth</th>\n",
       "      <th>hr</th>\n",
       "      <th>holiday</th>\n",
       "      <th>weekday</th>\n",
       "      <th>weathersit</th>\n",
       "      <th>temp</th>\n",
       "    </tr>\n",
       "  </thead>\n",
       "  <tbody>\n",
       "    <tr>\n",
       "      <th>count</th>\n",
       "      <td>610.000000</td>\n",
       "      <td>610</td>\n",
       "      <td>610.0</td>\n",
       "      <td>610.0</td>\n",
       "      <td>610.0</td>\n",
       "      <td>610.000000</td>\n",
       "      <td>610</td>\n",
       "      <td>610.000000</td>\n",
       "      <td>610.000000</td>\n",
       "      <td>610.000000</td>\n",
       "    </tr>\n",
       "    <tr>\n",
       "      <th>unique</th>\n",
       "      <td>NaN</td>\n",
       "      <td>28</td>\n",
       "      <td>NaN</td>\n",
       "      <td>NaN</td>\n",
       "      <td>NaN</td>\n",
       "      <td>NaN</td>\n",
       "      <td>2</td>\n",
       "      <td>NaN</td>\n",
       "      <td>NaN</td>\n",
       "      <td>NaN</td>\n",
       "    </tr>\n",
       "    <tr>\n",
       "      <th>top</th>\n",
       "      <td>NaN</td>\n",
       "      <td>01-01-2011</td>\n",
       "      <td>NaN</td>\n",
       "      <td>NaN</td>\n",
       "      <td>NaN</td>\n",
       "      <td>NaN</td>\n",
       "      <td>False</td>\n",
       "      <td>NaN</td>\n",
       "      <td>NaN</td>\n",
       "      <td>NaN</td>\n",
       "    </tr>\n",
       "    <tr>\n",
       "      <th>freq</th>\n",
       "      <td>NaN</td>\n",
       "      <td>24</td>\n",
       "      <td>NaN</td>\n",
       "      <td>NaN</td>\n",
       "      <td>NaN</td>\n",
       "      <td>NaN</td>\n",
       "      <td>586</td>\n",
       "      <td>NaN</td>\n",
       "      <td>NaN</td>\n",
       "      <td>NaN</td>\n",
       "    </tr>\n",
       "    <tr>\n",
       "      <th>mean</th>\n",
       "      <td>305.500000</td>\n",
       "      <td>NaN</td>\n",
       "      <td>1.0</td>\n",
       "      <td>0.0</td>\n",
       "      <td>1.0</td>\n",
       "      <td>11.795082</td>\n",
       "      <td>NaN</td>\n",
       "      <td>2.977049</td>\n",
       "      <td>1.477049</td>\n",
       "      <td>0.196885</td>\n",
       "    </tr>\n",
       "    <tr>\n",
       "      <th>std</th>\n",
       "      <td>176.236111</td>\n",
       "      <td>NaN</td>\n",
       "      <td>0.0</td>\n",
       "      <td>0.0</td>\n",
       "      <td>0.0</td>\n",
       "      <td>6.852107</td>\n",
       "      <td>NaN</td>\n",
       "      <td>2.054943</td>\n",
       "      <td>0.643496</td>\n",
       "      <td>0.081304</td>\n",
       "    </tr>\n",
       "    <tr>\n",
       "      <th>min</th>\n",
       "      <td>1.000000</td>\n",
       "      <td>NaN</td>\n",
       "      <td>1.0</td>\n",
       "      <td>0.0</td>\n",
       "      <td>1.0</td>\n",
       "      <td>0.000000</td>\n",
       "      <td>NaN</td>\n",
       "      <td>0.000000</td>\n",
       "      <td>1.000000</td>\n",
       "      <td>0.020000</td>\n",
       "    </tr>\n",
       "    <tr>\n",
       "      <th>25%</th>\n",
       "      <td>153.250000</td>\n",
       "      <td>NaN</td>\n",
       "      <td>1.0</td>\n",
       "      <td>0.0</td>\n",
       "      <td>1.0</td>\n",
       "      <td>6.000000</td>\n",
       "      <td>NaN</td>\n",
       "      <td>1.000000</td>\n",
       "      <td>1.000000</td>\n",
       "      <td>0.160000</td>\n",
       "    </tr>\n",
       "    <tr>\n",
       "      <th>50%</th>\n",
       "      <td>305.500000</td>\n",
       "      <td>NaN</td>\n",
       "      <td>1.0</td>\n",
       "      <td>0.0</td>\n",
       "      <td>1.0</td>\n",
       "      <td>12.000000</td>\n",
       "      <td>NaN</td>\n",
       "      <td>3.000000</td>\n",
       "      <td>1.000000</td>\n",
       "      <td>0.200000</td>\n",
       "    </tr>\n",
       "    <tr>\n",
       "      <th>75%</th>\n",
       "      <td>457.750000</td>\n",
       "      <td>NaN</td>\n",
       "      <td>1.0</td>\n",
       "      <td>0.0</td>\n",
       "      <td>1.0</td>\n",
       "      <td>18.000000</td>\n",
       "      <td>NaN</td>\n",
       "      <td>5.000000</td>\n",
       "      <td>2.000000</td>\n",
       "      <td>0.235000</td>\n",
       "    </tr>\n",
       "    <tr>\n",
       "      <th>max</th>\n",
       "      <td>610.000000</td>\n",
       "      <td>NaN</td>\n",
       "      <td>1.0</td>\n",
       "      <td>0.0</td>\n",
       "      <td>1.0</td>\n",
       "      <td>23.000000</td>\n",
       "      <td>NaN</td>\n",
       "      <td>6.000000</td>\n",
       "      <td>4.000000</td>\n",
       "      <td>0.460000</td>\n",
       "    </tr>\n",
       "  </tbody>\n",
       "</table>\n",
       "</div>"
      ],
      "text/plain": [
       "           instant      dteday  season     yr   mnth          hr holiday  \\\n",
       "count   610.000000         610   610.0  610.0  610.0  610.000000     610   \n",
       "unique         NaN          28     NaN    NaN    NaN         NaN       2   \n",
       "top            NaN  01-01-2011     NaN    NaN    NaN         NaN   False   \n",
       "freq           NaN          24     NaN    NaN    NaN         NaN     586   \n",
       "mean    305.500000         NaN     1.0    0.0    1.0   11.795082     NaN   \n",
       "std     176.236111         NaN     0.0    0.0    0.0    6.852107     NaN   \n",
       "min       1.000000         NaN     1.0    0.0    1.0    0.000000     NaN   \n",
       "25%     153.250000         NaN     1.0    0.0    1.0    6.000000     NaN   \n",
       "50%     305.500000         NaN     1.0    0.0    1.0   12.000000     NaN   \n",
       "75%     457.750000         NaN     1.0    0.0    1.0   18.000000     NaN   \n",
       "max     610.000000         NaN     1.0    0.0    1.0   23.000000     NaN   \n",
       "\n",
       "           weekday  weathersit        temp  \n",
       "count   610.000000  610.000000  610.000000  \n",
       "unique         NaN         NaN         NaN  \n",
       "top            NaN         NaN         NaN  \n",
       "freq           NaN         NaN         NaN  \n",
       "mean      2.977049    1.477049    0.196885  \n",
       "std       2.054943    0.643496    0.081304  \n",
       "min       0.000000    1.000000    0.020000  \n",
       "25%       1.000000    1.000000    0.160000  \n",
       "50%       3.000000    1.000000    0.200000  \n",
       "75%       5.000000    2.000000    0.235000  \n",
       "max       6.000000    4.000000    0.460000  "
      ]
     },
     "execution_count": 297,
     "metadata": {},
     "output_type": "execute_result"
    }
   ],
   "source": [
    "df1.describe(include='all')"
   ]
  },
  {
   "cell_type": "code",
   "execution_count": 299,
   "id": "de2397ae-135b-4fc8-b304-1a286dc5f4ad",
   "metadata": {
    "scrolled": true
   },
   "outputs": [
    {
     "data": {
      "text/plain": [
       "instant       0\n",
       "dteday        0\n",
       "season        0\n",
       "yr            0\n",
       "mnth          0\n",
       "hr            0\n",
       "holiday       0\n",
       "weekday       0\n",
       "weathersit    0\n",
       "temp          0\n",
       "dtype: int64"
      ]
     },
     "execution_count": 299,
     "metadata": {},
     "output_type": "execute_result"
    }
   ],
   "source": [
    "df1.isnull().sum()"
   ]
  },
  {
   "cell_type": "markdown",
   "id": "75d06289-b057-4b36-82a1-f8f33205f15b",
   "metadata": {},
   "source": [
    "#Calling dataset 2"
   ]
  },
  {
   "cell_type": "code",
   "execution_count": 302,
   "id": "9882d935-ec61-41da-a5d3-884f083f866d",
   "metadata": {},
   "outputs": [
    {
     "data": {
      "text/html": [
       "<div>\n",
       "<style scoped>\n",
       "    .dataframe tbody tr th:only-of-type {\n",
       "        vertical-align: middle;\n",
       "    }\n",
       "\n",
       "    .dataframe tbody tr th {\n",
       "        vertical-align: top;\n",
       "    }\n",
       "\n",
       "    .dataframe thead th {\n",
       "        text-align: right;\n",
       "    }\n",
       "</style>\n",
       "<table border=\"1\" class=\"dataframe\">\n",
       "  <thead>\n",
       "    <tr style=\"text-align: right;\">\n",
       "      <th></th>\n",
       "      <th>Unnamed: 0</th>\n",
       "      <th>instant</th>\n",
       "      <th>atemp</th>\n",
       "      <th>hum</th>\n",
       "      <th>windspeed</th>\n",
       "      <th>casual</th>\n",
       "      <th>registered</th>\n",
       "      <th>cnt</th>\n",
       "    </tr>\n",
       "  </thead>\n",
       "  <tbody>\n",
       "    <tr>\n",
       "      <th>0</th>\n",
       "      <td>0</td>\n",
       "      <td>1</td>\n",
       "      <td>0.2879</td>\n",
       "      <td>0.81</td>\n",
       "      <td>0.0</td>\n",
       "      <td>3</td>\n",
       "      <td>13</td>\n",
       "      <td>16</td>\n",
       "    </tr>\n",
       "    <tr>\n",
       "      <th>1</th>\n",
       "      <td>1</td>\n",
       "      <td>2</td>\n",
       "      <td>0.2727</td>\n",
       "      <td>0.80</td>\n",
       "      <td>0.0</td>\n",
       "      <td>8</td>\n",
       "      <td>32</td>\n",
       "      <td>40</td>\n",
       "    </tr>\n",
       "    <tr>\n",
       "      <th>2</th>\n",
       "      <td>2</td>\n",
       "      <td>3</td>\n",
       "      <td>0.2727</td>\n",
       "      <td>0.80</td>\n",
       "      <td>0.0</td>\n",
       "      <td>5</td>\n",
       "      <td>27</td>\n",
       "      <td>32</td>\n",
       "    </tr>\n",
       "    <tr>\n",
       "      <th>3</th>\n",
       "      <td>3</td>\n",
       "      <td>4</td>\n",
       "      <td>0.2879</td>\n",
       "      <td>0.75</td>\n",
       "      <td>0.0</td>\n",
       "      <td>3</td>\n",
       "      <td>10</td>\n",
       "      <td>13</td>\n",
       "    </tr>\n",
       "    <tr>\n",
       "      <th>4</th>\n",
       "      <td>4</td>\n",
       "      <td>5</td>\n",
       "      <td>0.2879</td>\n",
       "      <td>0.75</td>\n",
       "      <td>0.0</td>\n",
       "      <td>0</td>\n",
       "      <td>1</td>\n",
       "      <td>1</td>\n",
       "    </tr>\n",
       "  </tbody>\n",
       "</table>\n",
       "</div>"
      ],
      "text/plain": [
       "   Unnamed: 0  instant   atemp   hum  windspeed  casual  registered  cnt\n",
       "0           0        1  0.2879  0.81        0.0       3          13   16\n",
       "1           1        2  0.2727  0.80        0.0       8          32   40\n",
       "2           2        3  0.2727  0.80        0.0       5          27   32\n",
       "3           3        4  0.2879  0.75        0.0       3          10   13\n",
       "4           4        5  0.2879  0.75        0.0       0           1    1"
      ]
     },
     "execution_count": 302,
     "metadata": {},
     "output_type": "execute_result"
    }
   ],
   "source": [
    "df2 = pd.read_csv(r'C:\\Users\\PND\\Downloads\\dataset_2.xlsx - dataset_2.csv')\n",
    "\n",
    "df2.head()"
   ]
  },
  {
   "cell_type": "code",
   "execution_count": 60,
   "id": "4f4b5bdc-a614-4e70-a841-8b17924af23e",
   "metadata": {},
   "outputs": [
    {
     "data": {
      "text/plain": [
       "Index(['Unnamed: 0', 'instant', 'atemp', 'hum', 'windspeed', 'casual',\n",
       "       'registered', 'cnt'],\n",
       "      dtype='object')"
      ]
     },
     "execution_count": 60,
     "metadata": {},
     "output_type": "execute_result"
    }
   ],
   "source": [
    "df2.columns #find the columns value "
   ]
  },
  {
   "cell_type": "code",
   "execution_count": 62,
   "id": "a24fb96a-f654-4953-811f-611599d23ed5",
   "metadata": {},
   "outputs": [
    {
     "name": "stdout",
     "output_type": "stream",
     "text": [
      "<class 'pandas.core.frame.DataFrame'>\n",
      "RangeIndex: 610 entries, 0 to 609\n",
      "Data columns (total 8 columns):\n",
      " #   Column      Non-Null Count  Dtype  \n",
      "---  ------      --------------  -----  \n",
      " 0   Unnamed: 0  610 non-null    int64  \n",
      " 1   instant     610 non-null    int64  \n",
      " 2   atemp       599 non-null    float64\n",
      " 3   hum         610 non-null    float64\n",
      " 4   windspeed   610 non-null    float64\n",
      " 5   casual      610 non-null    int64  \n",
      " 6   registered  610 non-null    int64  \n",
      " 7   cnt         610 non-null    int64  \n",
      "dtypes: float64(3), int64(5)\n",
      "memory usage: 38.3 KB\n"
     ]
    }
   ],
   "source": [
    "df2.info()"
   ]
  },
  {
   "cell_type": "code",
   "execution_count": 64,
   "id": "63de1fb1-226a-4036-b9df-3c37a51f19a1",
   "metadata": {
    "scrolled": true
   },
   "outputs": [
    {
     "data": {
      "text/plain": [
       "Unnamed: 0     0\n",
       "instant        0\n",
       "atemp         11\n",
       "hum            0\n",
       "windspeed      0\n",
       "casual         0\n",
       "registered     0\n",
       "cnt            0\n",
       "dtype: int64"
      ]
     },
     "execution_count": 64,
     "metadata": {},
     "output_type": "execute_result"
    }
   ],
   "source": [
    "df2.isnull().sum() #find null value in atemp         "
   ]
  },
  {
   "cell_type": "code",
   "execution_count": 66,
   "id": "1d486011-bde0-4fd8-b2b7-97d9fa6d5c3f",
   "metadata": {},
   "outputs": [],
   "source": [
    "handle_atemp_null = df2.fillna(df2.mean(), inplace=True)\n",
    "handle_atemp_null"
   ]
  },
  {
   "cell_type": "code",
   "execution_count": 68,
   "id": "4808333a-d676-432b-ae18-22befd14c025",
   "metadata": {},
   "outputs": [
    {
     "data": {
      "text/plain": [
       "Unnamed: 0    0\n",
       "instant       0\n",
       "atemp         0\n",
       "hum           0\n",
       "windspeed     0\n",
       "casual        0\n",
       "registered    0\n",
       "cnt           0\n",
       "dtype: int64"
      ]
     },
     "execution_count": 68,
     "metadata": {},
     "output_type": "execute_result"
    }
   ],
   "source": [
    "df2.isnull().sum() "
   ]
  },
  {
   "cell_type": "code",
   "execution_count": 72,
   "id": "fe18a5f4-f4e6-4c4e-9237-9d156a58067e",
   "metadata": {},
   "outputs": [
    {
     "data": {
      "text/html": [
       "<div>\n",
       "<style scoped>\n",
       "    .dataframe tbody tr th:only-of-type {\n",
       "        vertical-align: middle;\n",
       "    }\n",
       "\n",
       "    .dataframe tbody tr th {\n",
       "        vertical-align: top;\n",
       "    }\n",
       "\n",
       "    .dataframe thead th {\n",
       "        text-align: right;\n",
       "    }\n",
       "</style>\n",
       "<table border=\"1\" class=\"dataframe\">\n",
       "  <thead>\n",
       "    <tr style=\"text-align: right;\">\n",
       "      <th></th>\n",
       "      <th>instant</th>\n",
       "      <th>dteday</th>\n",
       "      <th>season</th>\n",
       "      <th>yr</th>\n",
       "      <th>mnth</th>\n",
       "      <th>hr</th>\n",
       "      <th>holiday</th>\n",
       "      <th>weekday</th>\n",
       "      <th>weathersit</th>\n",
       "      <th>temp</th>\n",
       "      <th>Unnamed: 0</th>\n",
       "      <th>atemp</th>\n",
       "      <th>hum</th>\n",
       "      <th>windspeed</th>\n",
       "      <th>casual</th>\n",
       "      <th>registered</th>\n",
       "      <th>cnt</th>\n",
       "    </tr>\n",
       "  </thead>\n",
       "  <tbody>\n",
       "    <tr>\n",
       "      <th>0</th>\n",
       "      <td>1</td>\n",
       "      <td>01-01-2011</td>\n",
       "      <td>1</td>\n",
       "      <td>0</td>\n",
       "      <td>1</td>\n",
       "      <td>0</td>\n",
       "      <td>False</td>\n",
       "      <td>6</td>\n",
       "      <td>1</td>\n",
       "      <td>0.24</td>\n",
       "      <td>0</td>\n",
       "      <td>0.2879</td>\n",
       "      <td>0.81</td>\n",
       "      <td>0.0000</td>\n",
       "      <td>3</td>\n",
       "      <td>13</td>\n",
       "      <td>16</td>\n",
       "    </tr>\n",
       "    <tr>\n",
       "      <th>1</th>\n",
       "      <td>2</td>\n",
       "      <td>01-01-2011</td>\n",
       "      <td>1</td>\n",
       "      <td>0</td>\n",
       "      <td>1</td>\n",
       "      <td>1</td>\n",
       "      <td>False</td>\n",
       "      <td>6</td>\n",
       "      <td>1</td>\n",
       "      <td>0.22</td>\n",
       "      <td>1</td>\n",
       "      <td>0.2727</td>\n",
       "      <td>0.80</td>\n",
       "      <td>0.0000</td>\n",
       "      <td>8</td>\n",
       "      <td>32</td>\n",
       "      <td>40</td>\n",
       "    </tr>\n",
       "    <tr>\n",
       "      <th>2</th>\n",
       "      <td>3</td>\n",
       "      <td>01-01-2011</td>\n",
       "      <td>1</td>\n",
       "      <td>0</td>\n",
       "      <td>1</td>\n",
       "      <td>2</td>\n",
       "      <td>False</td>\n",
       "      <td>6</td>\n",
       "      <td>1</td>\n",
       "      <td>0.22</td>\n",
       "      <td>2</td>\n",
       "      <td>0.2727</td>\n",
       "      <td>0.80</td>\n",
       "      <td>0.0000</td>\n",
       "      <td>5</td>\n",
       "      <td>27</td>\n",
       "      <td>32</td>\n",
       "    </tr>\n",
       "    <tr>\n",
       "      <th>3</th>\n",
       "      <td>4</td>\n",
       "      <td>01-01-2011</td>\n",
       "      <td>1</td>\n",
       "      <td>0</td>\n",
       "      <td>1</td>\n",
       "      <td>3</td>\n",
       "      <td>False</td>\n",
       "      <td>6</td>\n",
       "      <td>1</td>\n",
       "      <td>0.24</td>\n",
       "      <td>3</td>\n",
       "      <td>0.2879</td>\n",
       "      <td>0.75</td>\n",
       "      <td>0.0000</td>\n",
       "      <td>3</td>\n",
       "      <td>10</td>\n",
       "      <td>13</td>\n",
       "    </tr>\n",
       "    <tr>\n",
       "      <th>4</th>\n",
       "      <td>5</td>\n",
       "      <td>01-01-2011</td>\n",
       "      <td>1</td>\n",
       "      <td>0</td>\n",
       "      <td>1</td>\n",
       "      <td>4</td>\n",
       "      <td>False</td>\n",
       "      <td>6</td>\n",
       "      <td>1</td>\n",
       "      <td>0.24</td>\n",
       "      <td>4</td>\n",
       "      <td>0.2879</td>\n",
       "      <td>0.75</td>\n",
       "      <td>0.0000</td>\n",
       "      <td>0</td>\n",
       "      <td>1</td>\n",
       "      <td>1</td>\n",
       "    </tr>\n",
       "    <tr>\n",
       "      <th>...</th>\n",
       "      <td>...</td>\n",
       "      <td>...</td>\n",
       "      <td>...</td>\n",
       "      <td>...</td>\n",
       "      <td>...</td>\n",
       "      <td>...</td>\n",
       "      <td>...</td>\n",
       "      <td>...</td>\n",
       "      <td>...</td>\n",
       "      <td>...</td>\n",
       "      <td>...</td>\n",
       "      <td>...</td>\n",
       "      <td>...</td>\n",
       "      <td>...</td>\n",
       "      <td>...</td>\n",
       "      <td>...</td>\n",
       "      <td>...</td>\n",
       "    </tr>\n",
       "    <tr>\n",
       "      <th>605</th>\n",
       "      <td>606</td>\n",
       "      <td>28-01-2011</td>\n",
       "      <td>1</td>\n",
       "      <td>0</td>\n",
       "      <td>1</td>\n",
       "      <td>11</td>\n",
       "      <td>False</td>\n",
       "      <td>5</td>\n",
       "      <td>3</td>\n",
       "      <td>0.18</td>\n",
       "      <td>605</td>\n",
       "      <td>0.2121</td>\n",
       "      <td>0.93</td>\n",
       "      <td>0.1045</td>\n",
       "      <td>0</td>\n",
       "      <td>30</td>\n",
       "      <td>30</td>\n",
       "    </tr>\n",
       "    <tr>\n",
       "      <th>606</th>\n",
       "      <td>607</td>\n",
       "      <td>28-01-2011</td>\n",
       "      <td>1</td>\n",
       "      <td>0</td>\n",
       "      <td>1</td>\n",
       "      <td>12</td>\n",
       "      <td>False</td>\n",
       "      <td>5</td>\n",
       "      <td>3</td>\n",
       "      <td>0.18</td>\n",
       "      <td>606</td>\n",
       "      <td>0.2121</td>\n",
       "      <td>0.93</td>\n",
       "      <td>0.1045</td>\n",
       "      <td>1</td>\n",
       "      <td>28</td>\n",
       "      <td>29</td>\n",
       "    </tr>\n",
       "    <tr>\n",
       "      <th>607</th>\n",
       "      <td>608</td>\n",
       "      <td>28-01-2011</td>\n",
       "      <td>1</td>\n",
       "      <td>0</td>\n",
       "      <td>1</td>\n",
       "      <td>13</td>\n",
       "      <td>False</td>\n",
       "      <td>5</td>\n",
       "      <td>3</td>\n",
       "      <td>0.18</td>\n",
       "      <td>607</td>\n",
       "      <td>0.2121</td>\n",
       "      <td>0.93</td>\n",
       "      <td>0.1045</td>\n",
       "      <td>0</td>\n",
       "      <td>31</td>\n",
       "      <td>31</td>\n",
       "    </tr>\n",
       "    <tr>\n",
       "      <th>608</th>\n",
       "      <td>609</td>\n",
       "      <td>28-01-2011</td>\n",
       "      <td>1</td>\n",
       "      <td>0</td>\n",
       "      <td>1</td>\n",
       "      <td>14</td>\n",
       "      <td>False</td>\n",
       "      <td>5</td>\n",
       "      <td>3</td>\n",
       "      <td>0.22</td>\n",
       "      <td>608</td>\n",
       "      <td>0.2727</td>\n",
       "      <td>0.80</td>\n",
       "      <td>0.0000</td>\n",
       "      <td>2</td>\n",
       "      <td>36</td>\n",
       "      <td>38</td>\n",
       "    </tr>\n",
       "    <tr>\n",
       "      <th>609</th>\n",
       "      <td>610</td>\n",
       "      <td>28-01-2011</td>\n",
       "      <td>1</td>\n",
       "      <td>0</td>\n",
       "      <td>1</td>\n",
       "      <td>15</td>\n",
       "      <td>False</td>\n",
       "      <td>5</td>\n",
       "      <td>2</td>\n",
       "      <td>0.20</td>\n",
       "      <td>609</td>\n",
       "      <td>0.2576</td>\n",
       "      <td>0.86</td>\n",
       "      <td>0.0000</td>\n",
       "      <td>1</td>\n",
       "      <td>40</td>\n",
       "      <td>41</td>\n",
       "    </tr>\n",
       "  </tbody>\n",
       "</table>\n",
       "<p>610 rows × 17 columns</p>\n",
       "</div>"
      ],
      "text/plain": [
       "     instant      dteday  season  yr  mnth  hr  holiday  weekday  weathersit  \\\n",
       "0          1  01-01-2011       1   0     1   0    False        6           1   \n",
       "1          2  01-01-2011       1   0     1   1    False        6           1   \n",
       "2          3  01-01-2011       1   0     1   2    False        6           1   \n",
       "3          4  01-01-2011       1   0     1   3    False        6           1   \n",
       "4          5  01-01-2011       1   0     1   4    False        6           1   \n",
       "..       ...         ...     ...  ..   ...  ..      ...      ...         ...   \n",
       "605      606  28-01-2011       1   0     1  11    False        5           3   \n",
       "606      607  28-01-2011       1   0     1  12    False        5           3   \n",
       "607      608  28-01-2011       1   0     1  13    False        5           3   \n",
       "608      609  28-01-2011       1   0     1  14    False        5           3   \n",
       "609      610  28-01-2011       1   0     1  15    False        5           2   \n",
       "\n",
       "     temp  Unnamed: 0   atemp   hum  windspeed  casual  registered  cnt  \n",
       "0    0.24           0  0.2879  0.81     0.0000       3          13   16  \n",
       "1    0.22           1  0.2727  0.80     0.0000       8          32   40  \n",
       "2    0.22           2  0.2727  0.80     0.0000       5          27   32  \n",
       "3    0.24           3  0.2879  0.75     0.0000       3          10   13  \n",
       "4    0.24           4  0.2879  0.75     0.0000       0           1    1  \n",
       "..    ...         ...     ...   ...        ...     ...         ...  ...  \n",
       "605  0.18         605  0.2121  0.93     0.1045       0          30   30  \n",
       "606  0.18         606  0.2121  0.93     0.1045       1          28   29  \n",
       "607  0.18         607  0.2121  0.93     0.1045       0          31   31  \n",
       "608  0.22         608  0.2727  0.80     0.0000       2          36   38  \n",
       "609  0.20         609  0.2576  0.86     0.0000       1          40   41  \n",
       "\n",
       "[610 rows x 17 columns]"
      ]
     },
     "execution_count": 72,
     "metadata": {},
     "output_type": "execute_result"
    }
   ],
   "source": [
    "merged_df = pd.merge(df1, df2, on='instant', how='outer')  # Merge df1 and df2\n",
    "\n",
    "\n",
    "merged_df"
   ]
  },
  {
   "cell_type": "code",
   "execution_count": 74,
   "id": "dc996fc5-b925-41ca-a801-7fb291c0b36c",
   "metadata": {},
   "outputs": [
    {
     "data": {
      "text/plain": [
       "instant       0\n",
       "dteday        0\n",
       "season        0\n",
       "yr            0\n",
       "mnth          0\n",
       "hr            0\n",
       "holiday       0\n",
       "weekday       0\n",
       "weathersit    0\n",
       "temp          0\n",
       "Unnamed: 0    0\n",
       "atemp         0\n",
       "hum           0\n",
       "windspeed     0\n",
       "casual        0\n",
       "registered    0\n",
       "cnt           0\n",
       "dtype: int64"
      ]
     },
     "execution_count": 74,
     "metadata": {},
     "output_type": "execute_result"
    }
   ],
   "source": [
    "merged_df.isnull().sum()"
   ]
  },
  {
   "cell_type": "code",
   "execution_count": 208,
   "id": "d3238e6c-80cc-41ff-befe-2304f2e235d3",
   "metadata": {},
   "outputs": [
    {
     "data": {
      "text/plain": [
       "<Axes: xlabel='instant', ylabel='registered'>"
      ]
     },
     "execution_count": 208,
     "metadata": {},
     "output_type": "execute_result"
    },
    {
     "data": {
      "image/png": "[encoded data removed]",
      "text/plain": [
       "<Figure size 640x480 with 1 Axes>"
      ]
     },
     "metadata": {},
     "output_type": "display_data"
    }
   ],
   "source": [
    "df_plt=sns.lineplot(x=\"instant\", y=\"registered\", data=df2) #identifying and detecting outliers visually using boxplot\n",
    "df_plt"
   ]
  },
  {
   "cell_type": "code",
   "execution_count": 210,
   "id": "b7a1ea00-416b-422c-b99d-acae1687a765",
   "metadata": {
    "scrolled": true
   },
   "outputs": [
    {
     "data": {
      "text/plain": [
       "Index(['instant', 'dteday', 'season', 'yr', 'mnth', 'hr', 'holiday', 'weekday',\n",
       "       'weathersit', 'temp', 'Unnamed: 0', 'atemp', 'hum', 'windspeed',\n",
       "       'casual', 'registered', 'cnt'],\n",
       "      dtype='object')"
      ]
     },
     "execution_count": 210,
     "metadata": {},
     "output_type": "execute_result"
    }
   ],
   "source": [
    "merged_df.columns"
   ]
  },
  {
   "cell_type": "markdown",
   "id": "05279dac-8b1d-452a-addb-e5cdb53015e1",
   "metadata": {},
   "source": [
    "#dataset 1 & 2 centraltendecy"
   ]
  },
  {
   "cell_type": "code",
   "execution_count": 213,
   "id": "b2058190-4840-477f-aa5f-b9a0488184b0",
   "metadata": {},
   "outputs": [
    {
     "data": {
      "text/plain": [
       "0.19688524590163933"
      ]
     },
     "execution_count": 213,
     "metadata": {},
     "output_type": "execute_result"
    }
   ],
   "source": [
    "merged_df['temp'].mean()\n"
   ]
  },
  {
   "cell_type": "code",
   "execution_count": 215,
   "id": "7f808354-41aa-43d4-a883-807c5d84a581",
   "metadata": {},
   "outputs": [
    {
     "data": {
      "text/plain": [
       "0    0.2\n",
       "Name: temp, dtype: float64"
      ]
     },
     "execution_count": 215,
     "metadata": {},
     "output_type": "execute_result"
    }
   ],
   "source": [
    "merged_df['temp'].mode()\n"
   ]
  },
  {
   "cell_type": "code",
   "execution_count": 217,
   "id": "6e4d074f-ce2b-45f8-8660-2a2838c56b7d",
   "metadata": {
    "scrolled": true
   },
   "outputs": [
    {
     "data": {
      "text/plain": [
       "0.2"
      ]
     },
     "execution_count": 217,
     "metadata": {},
     "output_type": "execute_result"
    }
   ],
   "source": [
    "merged_df['temp'].median()\n"
   ]
  },
  {
   "cell_type": "code",
   "execution_count": 219,
   "id": "7d683d9a-1d9c-4b59-aac6-416cb3dc0029",
   "metadata": {},
   "outputs": [
    {
     "data": {
      "text/html": [
       "<div>\n",
       "<style scoped>\n",
       "    .dataframe tbody tr th:only-of-type {\n",
       "        vertical-align: middle;\n",
       "    }\n",
       "\n",
       "    .dataframe tbody tr th {\n",
       "        vertical-align: top;\n",
       "    }\n",
       "\n",
       "    .dataframe thead th {\n",
       "        text-align: right;\n",
       "    }\n",
       "</style>\n",
       "<table border=\"1\" class=\"dataframe\">\n",
       "  <thead>\n",
       "    <tr style=\"text-align: right;\">\n",
       "      <th></th>\n",
       "      <th>instant</th>\n",
       "      <th>dteday</th>\n",
       "      <th>season</th>\n",
       "      <th>yr</th>\n",
       "      <th>mnth</th>\n",
       "      <th>hr</th>\n",
       "      <th>holiday</th>\n",
       "      <th>weekday</th>\n",
       "      <th>weathersit</th>\n",
       "      <th>temp</th>\n",
       "      <th>atemp</th>\n",
       "      <th>hum</th>\n",
       "      <th>windspeed</th>\n",
       "      <th>casual</th>\n",
       "      <th>registered</th>\n",
       "      <th>cnt</th>\n",
       "    </tr>\n",
       "  </thead>\n",
       "  <tbody>\n",
       "    <tr>\n",
       "      <th>0</th>\n",
       "      <td>1</td>\n",
       "      <td>01-01-2011</td>\n",
       "      <td>1</td>\n",
       "      <td>0</td>\n",
       "      <td>1</td>\n",
       "      <td>0</td>\n",
       "      <td>False</td>\n",
       "      <td>6</td>\n",
       "      <td>1</td>\n",
       "      <td>0.24</td>\n",
       "      <td>0.2879</td>\n",
       "      <td>0.81</td>\n",
       "      <td>0.0000</td>\n",
       "      <td>3</td>\n",
       "      <td>13</td>\n",
       "      <td>16</td>\n",
       "    </tr>\n",
       "    <tr>\n",
       "      <th>1</th>\n",
       "      <td>2</td>\n",
       "      <td>01-01-2011</td>\n",
       "      <td>1</td>\n",
       "      <td>0</td>\n",
       "      <td>1</td>\n",
       "      <td>1</td>\n",
       "      <td>False</td>\n",
       "      <td>6</td>\n",
       "      <td>1</td>\n",
       "      <td>0.22</td>\n",
       "      <td>0.2727</td>\n",
       "      <td>0.80</td>\n",
       "      <td>0.0000</td>\n",
       "      <td>8</td>\n",
       "      <td>32</td>\n",
       "      <td>40</td>\n",
       "    </tr>\n",
       "    <tr>\n",
       "      <th>2</th>\n",
       "      <td>3</td>\n",
       "      <td>01-01-2011</td>\n",
       "      <td>1</td>\n",
       "      <td>0</td>\n",
       "      <td>1</td>\n",
       "      <td>2</td>\n",
       "      <td>False</td>\n",
       "      <td>6</td>\n",
       "      <td>1</td>\n",
       "      <td>0.22</td>\n",
       "      <td>0.2727</td>\n",
       "      <td>0.80</td>\n",
       "      <td>0.0000</td>\n",
       "      <td>5</td>\n",
       "      <td>27</td>\n",
       "      <td>32</td>\n",
       "    </tr>\n",
       "    <tr>\n",
       "      <th>3</th>\n",
       "      <td>4</td>\n",
       "      <td>01-01-2011</td>\n",
       "      <td>1</td>\n",
       "      <td>0</td>\n",
       "      <td>1</td>\n",
       "      <td>3</td>\n",
       "      <td>False</td>\n",
       "      <td>6</td>\n",
       "      <td>1</td>\n",
       "      <td>0.24</td>\n",
       "      <td>0.2879</td>\n",
       "      <td>0.75</td>\n",
       "      <td>0.0000</td>\n",
       "      <td>3</td>\n",
       "      <td>10</td>\n",
       "      <td>13</td>\n",
       "    </tr>\n",
       "    <tr>\n",
       "      <th>4</th>\n",
       "      <td>5</td>\n",
       "      <td>01-01-2011</td>\n",
       "      <td>1</td>\n",
       "      <td>0</td>\n",
       "      <td>1</td>\n",
       "      <td>4</td>\n",
       "      <td>False</td>\n",
       "      <td>6</td>\n",
       "      <td>1</td>\n",
       "      <td>0.24</td>\n",
       "      <td>0.2879</td>\n",
       "      <td>0.75</td>\n",
       "      <td>0.0000</td>\n",
       "      <td>0</td>\n",
       "      <td>1</td>\n",
       "      <td>1</td>\n",
       "    </tr>\n",
       "    <tr>\n",
       "      <th>...</th>\n",
       "      <td>...</td>\n",
       "      <td>...</td>\n",
       "      <td>...</td>\n",
       "      <td>...</td>\n",
       "      <td>...</td>\n",
       "      <td>...</td>\n",
       "      <td>...</td>\n",
       "      <td>...</td>\n",
       "      <td>...</td>\n",
       "      <td>...</td>\n",
       "      <td>...</td>\n",
       "      <td>...</td>\n",
       "      <td>...</td>\n",
       "      <td>...</td>\n",
       "      <td>...</td>\n",
       "      <td>...</td>\n",
       "    </tr>\n",
       "    <tr>\n",
       "      <th>605</th>\n",
       "      <td>606</td>\n",
       "      <td>28-01-2011</td>\n",
       "      <td>1</td>\n",
       "      <td>0</td>\n",
       "      <td>1</td>\n",
       "      <td>11</td>\n",
       "      <td>False</td>\n",
       "      <td>5</td>\n",
       "      <td>3</td>\n",
       "      <td>0.18</td>\n",
       "      <td>0.2121</td>\n",
       "      <td>0.93</td>\n",
       "      <td>0.1045</td>\n",
       "      <td>0</td>\n",
       "      <td>30</td>\n",
       "      <td>30</td>\n",
       "    </tr>\n",
       "    <tr>\n",
       "      <th>606</th>\n",
       "      <td>607</td>\n",
       "      <td>28-01-2011</td>\n",
       "      <td>1</td>\n",
       "      <td>0</td>\n",
       "      <td>1</td>\n",
       "      <td>12</td>\n",
       "      <td>False</td>\n",
       "      <td>5</td>\n",
       "      <td>3</td>\n",
       "      <td>0.18</td>\n",
       "      <td>0.2121</td>\n",
       "      <td>0.93</td>\n",
       "      <td>0.1045</td>\n",
       "      <td>1</td>\n",
       "      <td>28</td>\n",
       "      <td>29</td>\n",
       "    </tr>\n",
       "    <tr>\n",
       "      <th>607</th>\n",
       "      <td>608</td>\n",
       "      <td>28-01-2011</td>\n",
       "      <td>1</td>\n",
       "      <td>0</td>\n",
       "      <td>1</td>\n",
       "      <td>13</td>\n",
       "      <td>False</td>\n",
       "      <td>5</td>\n",
       "      <td>3</td>\n",
       "      <td>0.18</td>\n",
       "      <td>0.2121</td>\n",
       "      <td>0.93</td>\n",
       "      <td>0.1045</td>\n",
       "      <td>0</td>\n",
       "      <td>31</td>\n",
       "      <td>31</td>\n",
       "    </tr>\n",
       "    <tr>\n",
       "      <th>608</th>\n",
       "      <td>609</td>\n",
       "      <td>28-01-2011</td>\n",
       "      <td>1</td>\n",
       "      <td>0</td>\n",
       "      <td>1</td>\n",
       "      <td>14</td>\n",
       "      <td>False</td>\n",
       "      <td>5</td>\n",
       "      <td>3</td>\n",
       "      <td>0.22</td>\n",
       "      <td>0.2727</td>\n",
       "      <td>0.80</td>\n",
       "      <td>0.0000</td>\n",
       "      <td>2</td>\n",
       "      <td>36</td>\n",
       "      <td>38</td>\n",
       "    </tr>\n",
       "    <tr>\n",
       "      <th>609</th>\n",
       "      <td>610</td>\n",
       "      <td>28-01-2011</td>\n",
       "      <td>1</td>\n",
       "      <td>0</td>\n",
       "      <td>1</td>\n",
       "      <td>15</td>\n",
       "      <td>False</td>\n",
       "      <td>5</td>\n",
       "      <td>2</td>\n",
       "      <td>0.20</td>\n",
       "      <td>0.2576</td>\n",
       "      <td>0.86</td>\n",
       "      <td>0.0000</td>\n",
       "      <td>1</td>\n",
       "      <td>40</td>\n",
       "      <td>41</td>\n",
       "    </tr>\n",
       "  </tbody>\n",
       "</table>\n",
       "<p>610 rows × 16 columns</p>\n",
       "</div>"
      ],
      "text/plain": [
       "     instant      dteday  season  yr  mnth  hr  holiday  weekday  weathersit  \\\n",
       "0          1  01-01-2011       1   0     1   0    False        6           1   \n",
       "1          2  01-01-2011       1   0     1   1    False        6           1   \n",
       "2          3  01-01-2011       1   0     1   2    False        6           1   \n",
       "3          4  01-01-2011       1   0     1   3    False        6           1   \n",
       "4          5  01-01-2011       1   0     1   4    False        6           1   \n",
       "..       ...         ...     ...  ..   ...  ..      ...      ...         ...   \n",
       "605      606  28-01-2011       1   0     1  11    False        5           3   \n",
       "606      607  28-01-2011       1   0     1  12    False        5           3   \n",
       "607      608  28-01-2011       1   0     1  13    False        5           3   \n",
       "608      609  28-01-2011       1   0     1  14    False        5           3   \n",
       "609      610  28-01-2011       1   0     1  15    False        5           2   \n",
       "\n",
       "     temp   atemp   hum  windspeed  casual  registered  cnt  \n",
       "0    0.24  0.2879  0.81     0.0000       3          13   16  \n",
       "1    0.22  0.2727  0.80     0.0000       8          32   40  \n",
       "2    0.22  0.2727  0.80     0.0000       5          27   32  \n",
       "3    0.24  0.2879  0.75     0.0000       3          10   13  \n",
       "4    0.24  0.2879  0.75     0.0000       0           1    1  \n",
       "..    ...     ...   ...        ...     ...         ...  ...  \n",
       "605  0.18  0.2121  0.93     0.1045       0          30   30  \n",
       "606  0.18  0.2121  0.93     0.1045       1          28   29  \n",
       "607  0.18  0.2121  0.93     0.1045       0          31   31  \n",
       "608  0.22  0.2727  0.80     0.0000       2          36   38  \n",
       "609  0.20  0.2576  0.86     0.0000       1          40   41  \n",
       "\n",
       "[610 rows x 16 columns]"
      ]
     },
     "execution_count": 219,
     "metadata": {},
     "output_type": "execute_result"
    }
   ],
   "source": [
    "merged_df.drop(columns=['Unnamed: 0'] )"
   ]
  },
  {
   "cell_type": "code",
   "execution_count": 221,
   "id": "0e3f20c5-c004-4d77-b3a1-18c95f7e1716",
   "metadata": {
    "scrolled": true
   },
   "outputs": [
    {
     "data": {
      "text/plain": [
       "instant       0\n",
       "dteday        0\n",
       "season        0\n",
       "yr            0\n",
       "mnth          0\n",
       "hr            0\n",
       "holiday       0\n",
       "weekday       0\n",
       "weathersit    0\n",
       "temp          0\n",
       "Unnamed: 0    0\n",
       "atemp         0\n",
       "hum           0\n",
       "windspeed     0\n",
       "casual        0\n",
       "registered    0\n",
       "cnt           0\n",
       "dtype: int64"
      ]
     },
     "execution_count": 221,
     "metadata": {},
     "output_type": "execute_result"
    }
   ],
   "source": [
    "merged_df.isnull().sum()"
   ]
  },
  {
   "cell_type": "code",
   "execution_count": 223,
   "id": "d2892d66-89f1-4be6-8dc3-56c75d984c8a",
   "metadata": {},
   "outputs": [
    {
     "data": {
      "text/plain": [
       "dtype('float64')"
      ]
     },
     "execution_count": 223,
     "metadata": {},
     "output_type": "execute_result"
    }
   ],
   "source": [
    "merged_df['atemp'].dtype"
   ]
  },
  {
   "cell_type": "code",
   "execution_count": 225,
   "id": "e99d7653-08f9-4555-9218-a1d214f58ec7",
   "metadata": {
    "scrolled": true
   },
   "outputs": [
    {
     "data": {
      "text/plain": [
       "instant       0\n",
       "dteday        0\n",
       "season        0\n",
       "yr            0\n",
       "mnth          0\n",
       "hr            0\n",
       "holiday       0\n",
       "weekday       0\n",
       "weathersit    0\n",
       "temp          0\n",
       "Unnamed: 0    0\n",
       "atemp         0\n",
       "hum           0\n",
       "windspeed     0\n",
       "casual        0\n",
       "registered    0\n",
       "cnt           0\n",
       "dtype: int64"
      ]
     },
     "execution_count": 225,
     "metadata": {},
     "output_type": "execute_result"
    }
   ],
   "source": [
    "merged_df.isnull().sum()"
   ]
  },
  {
   "cell_type": "code",
   "execution_count": 232,
   "id": "ad61968c-38b9-4229-99b5-834f53c15187",
   "metadata": {},
   "outputs": [
    {
     "data": {
      "text/plain": [
       "array([0.2879    , 0.2727    , 0.2576    , 0.19993489, 0.3485    ,\n",
       "       0.3939    , 0.3333    , 0.4242    , 0.4545    , 0.4394    ,\n",
       "       0.4091    , 0.2273    , 0.2121    , 0.197     , 0.1364    ,\n",
       "       0.1061    , 0.1212    , 0.1667    , 0.1818    , 0.2424    ,\n",
       "       0.1515    , 0.3182    , 0.0606    , 0.0758    , 0.0909    ,\n",
       "       0.303     , 0.0303    , 0.0455    , 0.        , 0.0152    ])"
      ]
     },
     "execution_count": 232,
     "metadata": {},
     "output_type": "execute_result"
    }
   ],
   "source": [
    "merged_df['atemp'].unique()"
   ]
  },
  {
   "cell_type": "code",
   "execution_count": 234,
   "id": "26c4302c-d9a1-4965-b59d-31f259fb4633",
   "metadata": {},
   "outputs": [
    {
     "data": {
      "text/plain": [
       "Index(['instant', 'dteday', 'season', 'yr', 'mnth', 'hr', 'holiday', 'weekday',\n",
       "       'weathersit', 'temp', 'Unnamed: 0', 'atemp', 'hum', 'windspeed',\n",
       "       'casual', 'registered', 'cnt'],\n",
       "      dtype='object')"
      ]
     },
     "execution_count": 234,
     "metadata": {},
     "output_type": "execute_result"
    }
   ],
   "source": [
    "merged_df.columns"
   ]
  },
  {
   "cell_type": "code",
   "execution_count": 236,
   "id": "4f4c8c35-cff7-48b4-8fb4-42d20eb49ee7",
   "metadata": {},
   "outputs": [
    {
     "name": "stdout",
     "output_type": "stream",
     "text": [
      "(610, 17)\n"
     ]
    }
   ],
   "source": [
    "print(merged_df.shape)  # (rows, columns)\n"
   ]
  },
  {
   "cell_type": "code",
   "execution_count": 238,
   "id": "a9d88174-654f-42b9-8412-b201b7a04ea4",
   "metadata": {},
   "outputs": [
    {
     "name": "stdout",
     "output_type": "stream",
     "text": [
      "instant         int64\n",
      "dteday         object\n",
      "season          int64\n",
      "yr              int64\n",
      "mnth            int64\n",
      "hr              int64\n",
      "holiday          bool\n",
      "weekday         int64\n",
      "weathersit      int64\n",
      "temp          float64\n",
      "Unnamed: 0      int64\n",
      "atemp         float64\n",
      "hum           float64\n",
      "windspeed     float64\n",
      "casual          int64\n",
      "registered      int64\n",
      "cnt             int64\n",
      "dtype: object\n"
     ]
    }
   ],
   "source": [
    "print(merged_df.dtypes)\n"
   ]
  },
  {
   "cell_type": "code",
   "execution_count": 240,
   "id": "81b2c73c-03e6-4a4e-9fdb-3f587e5282d0",
   "metadata": {
    "scrolled": true
   },
   "outputs": [
    {
     "name": "stdout",
     "output_type": "stream",
     "text": [
      "<class 'pandas.core.frame.DataFrame'>\n",
      "RangeIndex: 610 entries, 0 to 609\n",
      "Data columns (total 17 columns):\n",
      " #   Column      Non-Null Count  Dtype  \n",
      "---  ------      --------------  -----  \n",
      " 0   instant     610 non-null    int64  \n",
      " 1   dteday      610 non-null    object \n",
      " 2   season      610 non-null    int64  \n",
      " 3   yr          610 non-null    int64  \n",
      " 4   mnth        610 non-null    int64  \n",
      " 5   hr          610 non-null    int64  \n",
      " 6   holiday     610 non-null    bool   \n",
      " 7   weekday     610 non-null    int64  \n",
      " 8   weathersit  610 non-null    int64  \n",
      " 9   temp        610 non-null    float64\n",
      " 10  Unnamed: 0  610 non-null    int64  \n",
      " 11  atemp       610 non-null    float64\n",
      " 12  hum         610 non-null    float64\n",
      " 13  windspeed   610 non-null    float64\n",
      " 14  casual      610 non-null    int64  \n",
      " 15  registered  610 non-null    int64  \n",
      " 16  cnt         610 non-null    int64  \n",
      "dtypes: bool(1), float64(4), int64(11), object(1)\n",
      "memory usage: 77.0+ KB\n"
     ]
    }
   ],
   "source": [
    "merged_df.info()\n"
   ]
  },
  {
   "cell_type": "code",
   "execution_count": 242,
   "id": "0ed06986-5309-4eae-9198-228cbaf30e7f",
   "metadata": {},
   "outputs": [
    {
     "name": "stdout",
     "output_type": "stream",
     "text": [
      "   instant      dteday  season  yr  mnth  hr  holiday  weekday  weathersit  \\\n",
      "0      620  29-01-2011       1   0     1   1    False        6           1   \n",
      "1      621  29-01-2011       1   0     1   2    False        6           1   \n",
      "2      622  29-01-2011       1   0     1   3    False        6           1   \n",
      "3      623  29-01-2011       1   0     1   4    False        6           1   \n",
      "4      624  29-01-2011       1   0     1   6    False        6           1   \n",
      "\n",
      "   temp   atemp   hum  windspeed  casual  registered  cnt  \n",
      "0  0.22  0.2273  0.64     0.1940       0          20   20  \n",
      "1  0.22  0.2273  0.64     0.1642       0          15   15  \n",
      "2  0.20  0.2121  0.64     0.1343       3           5    8  \n",
      "3  0.16  0.1818  0.69     0.1045       1           2    3  \n",
      "4  0.16  0.1818  0.64     0.1343       0           2    2  \n"
     ]
    }
   ],
   "source": [
    "df3 = pd.read_csv(r'C:\\Users\\PND\\Downloads\\dataset_3 - dataset_3.csv')\n",
    "\n",
    "print(df3.head())"
   ]
  },
  {
   "cell_type": "code",
   "execution_count": 244,
   "id": "0190e2c3-37fd-45de-be48-fb97134a052d",
   "metadata": {},
   "outputs": [
    {
     "data": {
      "text/plain": [
       "Index(['instant', 'dteday', 'season', 'yr', 'mnth', 'hr', 'holiday', 'weekday',\n",
       "       'weathersit', 'temp', 'atemp', 'hum', 'windspeed', 'casual',\n",
       "       'registered', 'cnt'],\n",
       "      dtype='object')"
      ]
     },
     "execution_count": 244,
     "metadata": {},
     "output_type": "execute_result"
    }
   ],
   "source": [
    "df3.columns"
   ]
  },
  {
   "cell_type": "code",
   "execution_count": 246,
   "id": "4a96fe66-353b-4a09-a759-a2c5f13d796b",
   "metadata": {},
   "outputs": [
    {
     "data": {
      "text/plain": [
       "instant       0\n",
       "dteday        0\n",
       "season        0\n",
       "yr            0\n",
       "mnth          0\n",
       "hr            0\n",
       "holiday       0\n",
       "weekday       0\n",
       "weathersit    0\n",
       "temp          0\n",
       "atemp         0\n",
       "hum           0\n",
       "windspeed     0\n",
       "casual        0\n",
       "registered    0\n",
       "cnt           0\n",
       "dtype: int64"
      ]
     },
     "execution_count": 246,
     "metadata": {},
     "output_type": "execute_result"
    }
   ],
   "source": [
    "df3.isnull().sum()"
   ]
  },
  {
   "cell_type": "markdown",
   "id": "de1c507d-f205-4782-b2a3-f7e7ed6ccd53",
   "metadata": {},
   "source": [
    "#marge data with dataset 3"
   ]
  },
  {
   "cell_type": "code",
   "execution_count": 249,
   "id": "254173e3-b653-497a-8fe6-b8fad34c638d",
   "metadata": {},
   "outputs": [
    {
     "data": {
      "text/html": [
       "<div>\n",
       "<style scoped>\n",
       "    .dataframe tbody tr th:only-of-type {\n",
       "        vertical-align: middle;\n",
       "    }\n",
       "\n",
       "    .dataframe tbody tr th {\n",
       "        vertical-align: top;\n",
       "    }\n",
       "\n",
       "    .dataframe thead th {\n",
       "        text-align: right;\n",
       "    }\n",
       "</style>\n",
       "<table border=\"1\" class=\"dataframe\">\n",
       "  <thead>\n",
       "    <tr style=\"text-align: right;\">\n",
       "      <th></th>\n",
       "      <th>instant</th>\n",
       "      <th>dteday</th>\n",
       "      <th>season</th>\n",
       "      <th>yr</th>\n",
       "      <th>mnth</th>\n",
       "      <th>hr</th>\n",
       "      <th>holiday</th>\n",
       "      <th>weekday</th>\n",
       "      <th>weathersit</th>\n",
       "      <th>temp</th>\n",
       "      <th>Unnamed: 0</th>\n",
       "      <th>atemp</th>\n",
       "      <th>hum</th>\n",
       "      <th>windspeed</th>\n",
       "      <th>casual</th>\n",
       "      <th>registered</th>\n",
       "      <th>cnt</th>\n",
       "    </tr>\n",
       "  </thead>\n",
       "  <tbody>\n",
       "    <tr>\n",
       "      <th>0</th>\n",
       "      <td>1</td>\n",
       "      <td>01-01-2011</td>\n",
       "      <td>1</td>\n",
       "      <td>0</td>\n",
       "      <td>1</td>\n",
       "      <td>0</td>\n",
       "      <td>False</td>\n",
       "      <td>6</td>\n",
       "      <td>1</td>\n",
       "      <td>0.24</td>\n",
       "      <td>0.0</td>\n",
       "      <td>0.2879</td>\n",
       "      <td>0.81</td>\n",
       "      <td>0.0000</td>\n",
       "      <td>3</td>\n",
       "      <td>13</td>\n",
       "      <td>16</td>\n",
       "    </tr>\n",
       "    <tr>\n",
       "      <th>1</th>\n",
       "      <td>2</td>\n",
       "      <td>01-01-2011</td>\n",
       "      <td>1</td>\n",
       "      <td>0</td>\n",
       "      <td>1</td>\n",
       "      <td>1</td>\n",
       "      <td>False</td>\n",
       "      <td>6</td>\n",
       "      <td>1</td>\n",
       "      <td>0.22</td>\n",
       "      <td>1.0</td>\n",
       "      <td>0.2727</td>\n",
       "      <td>0.80</td>\n",
       "      <td>0.0000</td>\n",
       "      <td>8</td>\n",
       "      <td>32</td>\n",
       "      <td>40</td>\n",
       "    </tr>\n",
       "    <tr>\n",
       "      <th>2</th>\n",
       "      <td>3</td>\n",
       "      <td>01-01-2011</td>\n",
       "      <td>1</td>\n",
       "      <td>0</td>\n",
       "      <td>1</td>\n",
       "      <td>2</td>\n",
       "      <td>False</td>\n",
       "      <td>6</td>\n",
       "      <td>1</td>\n",
       "      <td>0.22</td>\n",
       "      <td>2.0</td>\n",
       "      <td>0.2727</td>\n",
       "      <td>0.80</td>\n",
       "      <td>0.0000</td>\n",
       "      <td>5</td>\n",
       "      <td>27</td>\n",
       "      <td>32</td>\n",
       "    </tr>\n",
       "    <tr>\n",
       "      <th>3</th>\n",
       "      <td>4</td>\n",
       "      <td>01-01-2011</td>\n",
       "      <td>1</td>\n",
       "      <td>0</td>\n",
       "      <td>1</td>\n",
       "      <td>3</td>\n",
       "      <td>False</td>\n",
       "      <td>6</td>\n",
       "      <td>1</td>\n",
       "      <td>0.24</td>\n",
       "      <td>3.0</td>\n",
       "      <td>0.2879</td>\n",
       "      <td>0.75</td>\n",
       "      <td>0.0000</td>\n",
       "      <td>3</td>\n",
       "      <td>10</td>\n",
       "      <td>13</td>\n",
       "    </tr>\n",
       "    <tr>\n",
       "      <th>4</th>\n",
       "      <td>5</td>\n",
       "      <td>01-01-2011</td>\n",
       "      <td>1</td>\n",
       "      <td>0</td>\n",
       "      <td>1</td>\n",
       "      <td>4</td>\n",
       "      <td>False</td>\n",
       "      <td>6</td>\n",
       "      <td>1</td>\n",
       "      <td>0.24</td>\n",
       "      <td>4.0</td>\n",
       "      <td>0.2879</td>\n",
       "      <td>0.75</td>\n",
       "      <td>0.0000</td>\n",
       "      <td>0</td>\n",
       "      <td>1</td>\n",
       "      <td>1</td>\n",
       "    </tr>\n",
       "    <tr>\n",
       "      <th>...</th>\n",
       "      <td>...</td>\n",
       "      <td>...</td>\n",
       "      <td>...</td>\n",
       "      <td>...</td>\n",
       "      <td>...</td>\n",
       "      <td>...</td>\n",
       "      <td>...</td>\n",
       "      <td>...</td>\n",
       "      <td>...</td>\n",
       "      <td>...</td>\n",
       "      <td>...</td>\n",
       "      <td>...</td>\n",
       "      <td>...</td>\n",
       "      <td>...</td>\n",
       "      <td>...</td>\n",
       "      <td>...</td>\n",
       "      <td>...</td>\n",
       "    </tr>\n",
       "    <tr>\n",
       "      <th>385</th>\n",
       "      <td>615</td>\n",
       "      <td>28-01-2011</td>\n",
       "      <td>1</td>\n",
       "      <td>0</td>\n",
       "      <td>1</td>\n",
       "      <td>20</td>\n",
       "      <td>False</td>\n",
       "      <td>5</td>\n",
       "      <td>2</td>\n",
       "      <td>0.24</td>\n",
       "      <td>NaN</td>\n",
       "      <td>0.2273</td>\n",
       "      <td>0.70</td>\n",
       "      <td>0.1940</td>\n",
       "      <td>1</td>\n",
       "      <td>61</td>\n",
       "      <td>62</td>\n",
       "    </tr>\n",
       "    <tr>\n",
       "      <th>386</th>\n",
       "      <td>616</td>\n",
       "      <td>28-01-2011</td>\n",
       "      <td>1</td>\n",
       "      <td>0</td>\n",
       "      <td>1</td>\n",
       "      <td>21</td>\n",
       "      <td>False</td>\n",
       "      <td>5</td>\n",
       "      <td>2</td>\n",
       "      <td>0.22</td>\n",
       "      <td>NaN</td>\n",
       "      <td>0.2273</td>\n",
       "      <td>0.75</td>\n",
       "      <td>0.1343</td>\n",
       "      <td>1</td>\n",
       "      <td>57</td>\n",
       "      <td>58</td>\n",
       "    </tr>\n",
       "    <tr>\n",
       "      <th>387</th>\n",
       "      <td>617</td>\n",
       "      <td>28-01-2011</td>\n",
       "      <td>1</td>\n",
       "      <td>0</td>\n",
       "      <td>1</td>\n",
       "      <td>22</td>\n",
       "      <td>False</td>\n",
       "      <td>5</td>\n",
       "      <td>1</td>\n",
       "      <td>0.24</td>\n",
       "      <td>NaN</td>\n",
       "      <td>0.2121</td>\n",
       "      <td>0.65</td>\n",
       "      <td>0.3582</td>\n",
       "      <td>0</td>\n",
       "      <td>26</td>\n",
       "      <td>26</td>\n",
       "    </tr>\n",
       "    <tr>\n",
       "      <th>388</th>\n",
       "      <td>618</td>\n",
       "      <td>28-01-2011</td>\n",
       "      <td>1</td>\n",
       "      <td>0</td>\n",
       "      <td>1</td>\n",
       "      <td>23</td>\n",
       "      <td>False</td>\n",
       "      <td>5</td>\n",
       "      <td>1</td>\n",
       "      <td>0.24</td>\n",
       "      <td>NaN</td>\n",
       "      <td>0.2273</td>\n",
       "      <td>0.60</td>\n",
       "      <td>0.2239</td>\n",
       "      <td>1</td>\n",
       "      <td>22</td>\n",
       "      <td>23</td>\n",
       "    </tr>\n",
       "    <tr>\n",
       "      <th>389</th>\n",
       "      <td>619</td>\n",
       "      <td>29-01-2011</td>\n",
       "      <td>1</td>\n",
       "      <td>0</td>\n",
       "      <td>1</td>\n",
       "      <td>0</td>\n",
       "      <td>False</td>\n",
       "      <td>6</td>\n",
       "      <td>1</td>\n",
       "      <td>0.22</td>\n",
       "      <td>NaN</td>\n",
       "      <td>0.1970</td>\n",
       "      <td>0.64</td>\n",
       "      <td>0.3582</td>\n",
       "      <td>2</td>\n",
       "      <td>26</td>\n",
       "      <td>28</td>\n",
       "    </tr>\n",
       "  </tbody>\n",
       "</table>\n",
       "<p>1000 rows × 17 columns</p>\n",
       "</div>"
      ],
      "text/plain": [
       "     instant      dteday  season  yr  mnth  hr  holiday  weekday  weathersit  \\\n",
       "0          1  01-01-2011       1   0     1   0    False        6           1   \n",
       "1          2  01-01-2011       1   0     1   1    False        6           1   \n",
       "2          3  01-01-2011       1   0     1   2    False        6           1   \n",
       "3          4  01-01-2011       1   0     1   3    False        6           1   \n",
       "4          5  01-01-2011       1   0     1   4    False        6           1   \n",
       "..       ...         ...     ...  ..   ...  ..      ...      ...         ...   \n",
       "385      615  28-01-2011       1   0     1  20    False        5           2   \n",
       "386      616  28-01-2011       1   0     1  21    False        5           2   \n",
       "387      617  28-01-2011       1   0     1  22    False        5           1   \n",
       "388      618  28-01-2011       1   0     1  23    False        5           1   \n",
       "389      619  29-01-2011       1   0     1   0    False        6           1   \n",
       "\n",
       "     temp  Unnamed: 0   atemp   hum  windspeed  casual  registered  cnt  \n",
       "0    0.24         0.0  0.2879  0.81     0.0000       3          13   16  \n",
       "1    0.22         1.0  0.2727  0.80     0.0000       8          32   40  \n",
       "2    0.22         2.0  0.2727  0.80     0.0000       5          27   32  \n",
       "3    0.24         3.0  0.2879  0.75     0.0000       3          10   13  \n",
       "4    0.24         4.0  0.2879  0.75     0.0000       0           1    1  \n",
       "..    ...         ...     ...   ...        ...     ...         ...  ...  \n",
       "385  0.24         NaN  0.2273  0.70     0.1940       1          61   62  \n",
       "386  0.22         NaN  0.2273  0.75     0.1343       1          57   58  \n",
       "387  0.24         NaN  0.2121  0.65     0.3582       0          26   26  \n",
       "388  0.24         NaN  0.2273  0.60     0.2239       1          22   23  \n",
       "389  0.22         NaN  0.1970  0.64     0.3582       2          26   28  \n",
       "\n",
       "[1000 rows x 17 columns]"
      ]
     },
     "execution_count": 249,
     "metadata": {},
     "output_type": "execute_result"
    }
   ],
   "source": [
    "final_merged_ds = pd.concat([merged_df, df3])  # Merge df1 and df2\n",
    "\n",
    "\n",
    "final_merged_ds"
   ]
  },
  {
   "cell_type": "code",
   "execution_count": 251,
   "id": "1a7ed135-7b30-4dec-99c3-18cdb3c007c4",
   "metadata": {},
   "outputs": [
    {
     "data": {
      "text/html": [
       "<div>\n",
       "<style scoped>\n",
       "    .dataframe tbody tr th:only-of-type {\n",
       "        vertical-align: middle;\n",
       "    }\n",
       "\n",
       "    .dataframe tbody tr th {\n",
       "        vertical-align: top;\n",
       "    }\n",
       "\n",
       "    .dataframe thead th {\n",
       "        text-align: right;\n",
       "    }\n",
       "</style>\n",
       "<table border=\"1\" class=\"dataframe\">\n",
       "  <thead>\n",
       "    <tr style=\"text-align: right;\">\n",
       "      <th></th>\n",
       "      <th>instant</th>\n",
       "      <th>dteday</th>\n",
       "      <th>season</th>\n",
       "      <th>yr</th>\n",
       "      <th>mnth</th>\n",
       "      <th>hr</th>\n",
       "      <th>holiday</th>\n",
       "      <th>weekday</th>\n",
       "      <th>weathersit</th>\n",
       "      <th>temp</th>\n",
       "      <th>atemp</th>\n",
       "      <th>hum</th>\n",
       "      <th>windspeed</th>\n",
       "      <th>casual</th>\n",
       "      <th>registered</th>\n",
       "      <th>cnt</th>\n",
       "    </tr>\n",
       "  </thead>\n",
       "  <tbody>\n",
       "    <tr>\n",
       "      <th>0</th>\n",
       "      <td>1</td>\n",
       "      <td>01-01-2011</td>\n",
       "      <td>1</td>\n",
       "      <td>0</td>\n",
       "      <td>1</td>\n",
       "      <td>0</td>\n",
       "      <td>False</td>\n",
       "      <td>6</td>\n",
       "      <td>1</td>\n",
       "      <td>0.24</td>\n",
       "      <td>0.2879</td>\n",
       "      <td>0.81</td>\n",
       "      <td>0.0000</td>\n",
       "      <td>3</td>\n",
       "      <td>13</td>\n",
       "      <td>16</td>\n",
       "    </tr>\n",
       "    <tr>\n",
       "      <th>1</th>\n",
       "      <td>2</td>\n",
       "      <td>01-01-2011</td>\n",
       "      <td>1</td>\n",
       "      <td>0</td>\n",
       "      <td>1</td>\n",
       "      <td>1</td>\n",
       "      <td>False</td>\n",
       "      <td>6</td>\n",
       "      <td>1</td>\n",
       "      <td>0.22</td>\n",
       "      <td>0.2727</td>\n",
       "      <td>0.80</td>\n",
       "      <td>0.0000</td>\n",
       "      <td>8</td>\n",
       "      <td>32</td>\n",
       "      <td>40</td>\n",
       "    </tr>\n",
       "    <tr>\n",
       "      <th>2</th>\n",
       "      <td>3</td>\n",
       "      <td>01-01-2011</td>\n",
       "      <td>1</td>\n",
       "      <td>0</td>\n",
       "      <td>1</td>\n",
       "      <td>2</td>\n",
       "      <td>False</td>\n",
       "      <td>6</td>\n",
       "      <td>1</td>\n",
       "      <td>0.22</td>\n",
       "      <td>0.2727</td>\n",
       "      <td>0.80</td>\n",
       "      <td>0.0000</td>\n",
       "      <td>5</td>\n",
       "      <td>27</td>\n",
       "      <td>32</td>\n",
       "    </tr>\n",
       "    <tr>\n",
       "      <th>3</th>\n",
       "      <td>4</td>\n",
       "      <td>01-01-2011</td>\n",
       "      <td>1</td>\n",
       "      <td>0</td>\n",
       "      <td>1</td>\n",
       "      <td>3</td>\n",
       "      <td>False</td>\n",
       "      <td>6</td>\n",
       "      <td>1</td>\n",
       "      <td>0.24</td>\n",
       "      <td>0.2879</td>\n",
       "      <td>0.75</td>\n",
       "      <td>0.0000</td>\n",
       "      <td>3</td>\n",
       "      <td>10</td>\n",
       "      <td>13</td>\n",
       "    </tr>\n",
       "    <tr>\n",
       "      <th>4</th>\n",
       "      <td>5</td>\n",
       "      <td>01-01-2011</td>\n",
       "      <td>1</td>\n",
       "      <td>0</td>\n",
       "      <td>1</td>\n",
       "      <td>4</td>\n",
       "      <td>False</td>\n",
       "      <td>6</td>\n",
       "      <td>1</td>\n",
       "      <td>0.24</td>\n",
       "      <td>0.2879</td>\n",
       "      <td>0.75</td>\n",
       "      <td>0.0000</td>\n",
       "      <td>0</td>\n",
       "      <td>1</td>\n",
       "      <td>1</td>\n",
       "    </tr>\n",
       "    <tr>\n",
       "      <th>...</th>\n",
       "      <td>...</td>\n",
       "      <td>...</td>\n",
       "      <td>...</td>\n",
       "      <td>...</td>\n",
       "      <td>...</td>\n",
       "      <td>...</td>\n",
       "      <td>...</td>\n",
       "      <td>...</td>\n",
       "      <td>...</td>\n",
       "      <td>...</td>\n",
       "      <td>...</td>\n",
       "      <td>...</td>\n",
       "      <td>...</td>\n",
       "      <td>...</td>\n",
       "      <td>...</td>\n",
       "      <td>...</td>\n",
       "    </tr>\n",
       "    <tr>\n",
       "      <th>385</th>\n",
       "      <td>615</td>\n",
       "      <td>28-01-2011</td>\n",
       "      <td>1</td>\n",
       "      <td>0</td>\n",
       "      <td>1</td>\n",
       "      <td>20</td>\n",
       "      <td>False</td>\n",
       "      <td>5</td>\n",
       "      <td>2</td>\n",
       "      <td>0.24</td>\n",
       "      <td>0.2273</td>\n",
       "      <td>0.70</td>\n",
       "      <td>0.1940</td>\n",
       "      <td>1</td>\n",
       "      <td>61</td>\n",
       "      <td>62</td>\n",
       "    </tr>\n",
       "    <tr>\n",
       "      <th>386</th>\n",
       "      <td>616</td>\n",
       "      <td>28-01-2011</td>\n",
       "      <td>1</td>\n",
       "      <td>0</td>\n",
       "      <td>1</td>\n",
       "      <td>21</td>\n",
       "      <td>False</td>\n",
       "      <td>5</td>\n",
       "      <td>2</td>\n",
       "      <td>0.22</td>\n",
       "      <td>0.2273</td>\n",
       "      <td>0.75</td>\n",
       "      <td>0.1343</td>\n",
       "      <td>1</td>\n",
       "      <td>57</td>\n",
       "      <td>58</td>\n",
       "    </tr>\n",
       "    <tr>\n",
       "      <th>387</th>\n",
       "      <td>617</td>\n",
       "      <td>28-01-2011</td>\n",
       "      <td>1</td>\n",
       "      <td>0</td>\n",
       "      <td>1</td>\n",
       "      <td>22</td>\n",
       "      <td>False</td>\n",
       "      <td>5</td>\n",
       "      <td>1</td>\n",
       "      <td>0.24</td>\n",
       "      <td>0.2121</td>\n",
       "      <td>0.65</td>\n",
       "      <td>0.3582</td>\n",
       "      <td>0</td>\n",
       "      <td>26</td>\n",
       "      <td>26</td>\n",
       "    </tr>\n",
       "    <tr>\n",
       "      <th>388</th>\n",
       "      <td>618</td>\n",
       "      <td>28-01-2011</td>\n",
       "      <td>1</td>\n",
       "      <td>0</td>\n",
       "      <td>1</td>\n",
       "      <td>23</td>\n",
       "      <td>False</td>\n",
       "      <td>5</td>\n",
       "      <td>1</td>\n",
       "      <td>0.24</td>\n",
       "      <td>0.2273</td>\n",
       "      <td>0.60</td>\n",
       "      <td>0.2239</td>\n",
       "      <td>1</td>\n",
       "      <td>22</td>\n",
       "      <td>23</td>\n",
       "    </tr>\n",
       "    <tr>\n",
       "      <th>389</th>\n",
       "      <td>619</td>\n",
       "      <td>29-01-2011</td>\n",
       "      <td>1</td>\n",
       "      <td>0</td>\n",
       "      <td>1</td>\n",
       "      <td>0</td>\n",
       "      <td>False</td>\n",
       "      <td>6</td>\n",
       "      <td>1</td>\n",
       "      <td>0.22</td>\n",
       "      <td>0.1970</td>\n",
       "      <td>0.64</td>\n",
       "      <td>0.3582</td>\n",
       "      <td>2</td>\n",
       "      <td>26</td>\n",
       "      <td>28</td>\n",
       "    </tr>\n",
       "  </tbody>\n",
       "</table>\n",
       "<p>1000 rows × 16 columns</p>\n",
       "</div>"
      ],
      "text/plain": [
       "     instant      dteday  season  yr  mnth  hr  holiday  weekday  weathersit  \\\n",
       "0          1  01-01-2011       1   0     1   0    False        6           1   \n",
       "1          2  01-01-2011       1   0     1   1    False        6           1   \n",
       "2          3  01-01-2011       1   0     1   2    False        6           1   \n",
       "3          4  01-01-2011       1   0     1   3    False        6           1   \n",
       "4          5  01-01-2011       1   0     1   4    False        6           1   \n",
       "..       ...         ...     ...  ..   ...  ..      ...      ...         ...   \n",
       "385      615  28-01-2011       1   0     1  20    False        5           2   \n",
       "386      616  28-01-2011       1   0     1  21    False        5           2   \n",
       "387      617  28-01-2011       1   0     1  22    False        5           1   \n",
       "388      618  28-01-2011       1   0     1  23    False        5           1   \n",
       "389      619  29-01-2011       1   0     1   0    False        6           1   \n",
       "\n",
       "     temp   atemp   hum  windspeed  casual  registered  cnt  \n",
       "0    0.24  0.2879  0.81     0.0000       3          13   16  \n",
       "1    0.22  0.2727  0.80     0.0000       8          32   40  \n",
       "2    0.22  0.2727  0.80     0.0000       5          27   32  \n",
       "3    0.24  0.2879  0.75     0.0000       3          10   13  \n",
       "4    0.24  0.2879  0.75     0.0000       0           1    1  \n",
       "..    ...     ...   ...        ...     ...         ...  ...  \n",
       "385  0.24  0.2273  0.70     0.1940       1          61   62  \n",
       "386  0.22  0.2273  0.75     0.1343       1          57   58  \n",
       "387  0.24  0.2121  0.65     0.3582       0          26   26  \n",
       "388  0.24  0.2273  0.60     0.2239       1          22   23  \n",
       "389  0.22  0.1970  0.64     0.3582       2          26   28  \n",
       "\n",
       "[1000 rows x 16 columns]"
      ]
     },
     "execution_count": 251,
     "metadata": {},
     "output_type": "execute_result"
    }
   ],
   "source": [
    "df_dropped = final_merged_ds.drop('Unnamed: 0', axis=1) #droped 1 columns from dataset\n",
    "df_dropped"
   ]
  },
  {
   "cell_type": "code",
   "execution_count": 253,
   "id": "ecff8701-3dcb-4618-99e3-ad780eec1db2",
   "metadata": {},
   "outputs": [
    {
     "data": {
      "text/plain": [
       "Index(['instant', 'dteday', 'season', 'yr', 'mnth', 'hr', 'holiday', 'weekday',\n",
       "       'weathersit', 'temp', 'Unnamed: 0', 'atemp', 'hum', 'windspeed',\n",
       "       'casual', 'registered', 'cnt'],\n",
       "      dtype='object')"
      ]
     },
     "execution_count": 253,
     "metadata": {},
     "output_type": "execute_result"
    }
   ],
   "source": [
    "final_merged_ds.columns"
   ]
  },
  {
   "cell_type": "code",
   "execution_count": 255,
   "id": "e4037e57-8d3b-4fc4-8050-ac10aaf17856",
   "metadata": {},
   "outputs": [
    {
     "data": {
      "text/plain": [
       "instant         int64\n",
       "dteday         object\n",
       "season          int64\n",
       "yr              int64\n",
       "mnth            int64\n",
       "hr              int64\n",
       "holiday          bool\n",
       "weekday         int64\n",
       "weathersit      int64\n",
       "temp          float64\n",
       "Unnamed: 0    float64\n",
       "atemp         float64\n",
       "hum           float64\n",
       "windspeed     float64\n",
       "casual          int64\n",
       "registered      int64\n",
       "cnt             int64\n",
       "dtype: object"
      ]
     },
     "execution_count": 255,
     "metadata": {},
     "output_type": "execute_result"
    }
   ],
   "source": [
    "final_merged_ds.dtypes"
   ]
  },
  {
   "cell_type": "code",
   "execution_count": 257,
   "id": "116aed08-6dc3-406d-9942-ff0c028a26fd",
   "metadata": {},
   "outputs": [
    {
     "name": "stdout",
     "output_type": "stream",
     "text": [
      "    instant      dteday  season  yr  mnth  hr  holiday  weekday  weathersit  \\\n",
      "13       14  01-01-2011       1   0     1  13    False        6           2   \n",
      "14       15  01-01-2011       1   0     1  14    False        6           2   \n",
      "24       25  02-01-2011       1   0     1   0    False        0           2   \n",
      "27       28  02-01-2011       1   0     1   3    False        0           2   \n",
      "\n",
      "    temp  Unnamed: 0   atemp   hum  windspeed  casual  registered  cnt  \\\n",
      "13  0.46        13.0  0.4545  0.72     0.2985      47          47   94   \n",
      "14  0.46        14.0  0.4545  0.72     0.2836      35          71  106   \n",
      "24  0.46        24.0  0.4545  0.88     0.2985       4          13   17   \n",
      "27  0.46        27.0  0.4545  0.94     0.1940       2           4    6   \n",
      "\n",
      "     z_score  \n",
      "13  3.182548  \n",
      "14  3.182548  \n",
      "24  3.182548  \n",
      "27  3.182548  \n"
     ]
    }
   ],
   "source": [
    "from scipy import stats\n",
    "\n",
    "final_merged_ds['z_score'] = np.abs(stats.zscore(final_merged_ds['atemp']))\n",
    "\n",
    "# Define a threshold for Z-score, usually 3\n",
    "threshold = 3\n",
    "\n",
    "# Find the outliers\n",
    "final_merged_ds = final_merged_ds[final_merged_ds['z_score'] > threshold]\n",
    "print(final_merged_ds)"
   ]
  },
  {
   "cell_type": "code",
   "execution_count": 259,
   "id": "09ed8851-a002-468e-8069-e77344b182b1",
   "metadata": {},
   "outputs": [
    {
     "name": "stdout",
     "output_type": "stream",
     "text": [
      "0.46\n",
      "0.46\n"
     ]
    }
   ],
   "source": [
    "q1=final_merged_ds[\"temp\"].quantile(.25)\n",
    "q3=final_merged_ds[\"temp\"].quantile(.50)\n",
    "print(q1)\n",
    "print(q3)"
   ]
  },
  {
   "cell_type": "code",
   "execution_count": 265,
   "id": "9a47136a-f158-4655-ad98-b232e7914826",
   "metadata": {},
   "outputs": [
    {
     "data": {
      "text/plain": [
       "0.0"
      ]
     },
     "execution_count": 265,
     "metadata": {},
     "output_type": "execute_result"
    }
   ],
   "source": [
    "iqr=q3-q1 \n",
    "iqr"
   ]
  },
  {
   "cell_type": "code",
   "execution_count": 267,
   "id": "aa2fe78b-1351-4a75-971c-bc8c19e542a3",
   "metadata": {
    "scrolled": true
   },
   "outputs": [
    {
     "data": {
      "text/html": [
       "<div>\n",
       "<style scoped>\n",
       "    .dataframe tbody tr th:only-of-type {\n",
       "        vertical-align: middle;\n",
       "    }\n",
       "\n",
       "    .dataframe tbody tr th {\n",
       "        vertical-align: top;\n",
       "    }\n",
       "\n",
       "    .dataframe thead th {\n",
       "        text-align: right;\n",
       "    }\n",
       "</style>\n",
       "<table border=\"1\" class=\"dataframe\">\n",
       "  <thead>\n",
       "    <tr style=\"text-align: right;\">\n",
       "      <th></th>\n",
       "      <th>instant</th>\n",
       "      <th>season</th>\n",
       "      <th>yr</th>\n",
       "      <th>mnth</th>\n",
       "      <th>hr</th>\n",
       "      <th>holiday</th>\n",
       "      <th>weekday</th>\n",
       "      <th>weathersit</th>\n",
       "      <th>temp</th>\n",
       "      <th>atemp</th>\n",
       "      <th>hum</th>\n",
       "      <th>windspeed</th>\n",
       "      <th>casual</th>\n",
       "      <th>registered</th>\n",
       "      <th>cnt</th>\n",
       "      <th>z_score</th>\n",
       "    </tr>\n",
       "  </thead>\n",
       "  <tbody>\n",
       "    <tr>\n",
       "      <th>13</th>\n",
       "      <td>14</td>\n",
       "      <td>1</td>\n",
       "      <td>0</td>\n",
       "      <td>1</td>\n",
       "      <td>13</td>\n",
       "      <td>False</td>\n",
       "      <td>6</td>\n",
       "      <td>2</td>\n",
       "      <td>0.46</td>\n",
       "      <td>0.4545</td>\n",
       "      <td>0.72</td>\n",
       "      <td>0.2985</td>\n",
       "      <td>47</td>\n",
       "      <td>47</td>\n",
       "      <td>94</td>\n",
       "      <td>3.182548</td>\n",
       "    </tr>\n",
       "    <tr>\n",
       "      <th>14</th>\n",
       "      <td>15</td>\n",
       "      <td>1</td>\n",
       "      <td>0</td>\n",
       "      <td>1</td>\n",
       "      <td>14</td>\n",
       "      <td>False</td>\n",
       "      <td>6</td>\n",
       "      <td>2</td>\n",
       "      <td>0.46</td>\n",
       "      <td>0.4545</td>\n",
       "      <td>0.72</td>\n",
       "      <td>0.2836</td>\n",
       "      <td>35</td>\n",
       "      <td>71</td>\n",
       "      <td>106</td>\n",
       "      <td>3.182548</td>\n",
       "    </tr>\n",
       "    <tr>\n",
       "      <th>24</th>\n",
       "      <td>25</td>\n",
       "      <td>1</td>\n",
       "      <td>0</td>\n",
       "      <td>1</td>\n",
       "      <td>0</td>\n",
       "      <td>False</td>\n",
       "      <td>0</td>\n",
       "      <td>2</td>\n",
       "      <td>0.46</td>\n",
       "      <td>0.4545</td>\n",
       "      <td>0.88</td>\n",
       "      <td>0.2985</td>\n",
       "      <td>4</td>\n",
       "      <td>13</td>\n",
       "      <td>17</td>\n",
       "      <td>3.182548</td>\n",
       "    </tr>\n",
       "    <tr>\n",
       "      <th>27</th>\n",
       "      <td>28</td>\n",
       "      <td>1</td>\n",
       "      <td>0</td>\n",
       "      <td>1</td>\n",
       "      <td>3</td>\n",
       "      <td>False</td>\n",
       "      <td>0</td>\n",
       "      <td>2</td>\n",
       "      <td>0.46</td>\n",
       "      <td>0.4545</td>\n",
       "      <td>0.94</td>\n",
       "      <td>0.1940</td>\n",
       "      <td>2</td>\n",
       "      <td>4</td>\n",
       "      <td>6</td>\n",
       "      <td>3.182548</td>\n",
       "    </tr>\n",
       "  </tbody>\n",
       "</table>\n",
       "</div>"
      ],
      "text/plain": [
       "    instant  season  yr  mnth  hr  holiday  weekday  weathersit  temp   atemp  \\\n",
       "13       14       1   0     1  13    False        6           2  0.46  0.4545   \n",
       "14       15       1   0     1  14    False        6           2  0.46  0.4545   \n",
       "24       25       1   0     1   0    False        0           2  0.46  0.4545   \n",
       "27       28       1   0     1   3    False        0           2  0.46  0.4545   \n",
       "\n",
       "     hum  windspeed  casual  registered  cnt   z_score  \n",
       "13  0.72     0.2985      47          47   94  3.182548  \n",
       "14  0.72     0.2836      35          71  106  3.182548  \n",
       "24  0.88     0.2985       4          13   17  3.182548  \n",
       "27  0.94     0.1940       2           4    6  3.182548  "
      ]
     },
     "execution_count": 267,
     "metadata": {},
     "output_type": "execute_result"
    }
   ],
   "source": [
    "f1=final_merged_ds.drop([\"dteday\", \"Unnamed: 0\"], axis=1)\n",
    "f1"
   ]
  },
  {
   "cell_type": "code",
   "execution_count": 269,
   "id": "3bb68a01-804c-4cf1-a0e4-466fbb429489",
   "metadata": {},
   "outputs": [
    {
     "data": {
      "text/plain": [
       "<Axes: xlabel='instant', ylabel='windspeed'>"
      ]
     },
     "execution_count": 269,
     "metadata": {},
     "output_type": "execute_result"
    },
    {
     "data": {
      "image/png": "[encoded data removed]",
      "text/plain": [
       "<Figure size 640x480 with 1 Axes>"
      ]
     },
     "metadata": {},
     "output_type": "display_data"
    }
   ],
   "source": [
    "import seaborn as sns\n",
    "ax=sns.scatterplot(x=\"instant\",y=\"windspeed\",data=final_merged_ds) #identifying and detecting outliers visually using boxplot\n",
    "ax"
   ]
  },
  {
   "cell_type": "code",
   "execution_count": 271,
   "id": "14bec9b9-2020-4a33-9583-ec3c3391ccca",
   "metadata": {},
   "outputs": [
    {
     "data": {
      "text/plain": [
       "<Axes: xlabel='weekday', ylabel='windspeed'>"
      ]
     },
     "execution_count": 271,
     "metadata": {},
     "output_type": "execute_result"
    },
    {
     "data": {
      "image/png": "[encoded data removed]",
      "text/plain": [
       "<Figure size 640x480 with 1 Axes>"
      ]
     },
     "metadata": {},
     "output_type": "display_data"
    }
   ],
   "source": [
    "ax=sns.lineplot(x=\"weekday\",y=\"windspeed\",data=final_merged_ds) #identifying and detecting outliers visually using boxplot\n",
    "ax"
   ]
  },
  {
   "cell_type": "code",
   "execution_count": 272,
   "id": "62aaf099-cfa1-4a9a-9598-dd7c13c2eec6",
   "metadata": {
    "scrolled": true
   },
   "outputs": [
    {
     "data": {
      "text/plain": [
       "<Axes: xlabel='weekday', ylabel='windspeed'>"
      ]
     },
     "execution_count": 272,
     "metadata": {},
     "output_type": "execute_result"
    },
    {
     "data": {
      "image/png": "[encoded data removed]",
      "text/plain": [
       "<Figure size 640x480 with 1 Axes>"
      ]
     },
     "metadata": {},
     "output_type": "display_data"
    }
   ],
   "source": [
    "ax=sns.barplot(x=\"weekday\",y=\"windspeed\",data=final_merged_ds) #identifying and detecting outliers visually using boxplot\n",
    "ax"
   ]
  },
  {
   "cell_type": "code",
   "execution_count": 274,
   "id": "777ec63d-1e4a-479b-9f83-93ad9f4e2aa0",
   "metadata": {},
   "outputs": [
    {
     "data": {
      "text/plain": [
       "<Axes: xlabel='weekday', ylabel='cnt'>"
      ]
     },
     "execution_count": 274,
     "metadata": {},
     "output_type": "execute_result"
    },
    {
     "data": {
      "image/png": "[encoded data removed]",
      "text/plain": [
       "<Figure size 640x480 with 1 Axes>"
      ]
     },
     "metadata": {},
     "output_type": "display_data"
    }
   ],
   "source": [
    "ax=sns.histplot(x=\"weekday\",y=\"cnt\",data=final_merged_ds) #identifying and detecting outliers visually using boxplot\n",
    "ax"
   ]
  },
  {
   "cell_type": "code",
   "execution_count": 276,
   "id": "2df0616c-723e-40ec-b960-1ed065f00ff1",
   "metadata": {},
   "outputs": [
    {
     "data": {
      "image/png": "[encoded data removed]",
      "text/plain": [
       "<Figure size 640x480 with 1 Axes>"
      ]
     },
     "metadata": {},
     "output_type": "display_data"
    }
   ],
   "source": [
    "import matplotlib.pyplot as plt\n",
    "sns.boxplot(x=\"casual\",y=\"temp\",data=final_merged_ds)\n",
    "\n",
    "plt.title('Box Plot using Seaborn')\n",
    "plt.show()"
   ]
  },
  {
   "cell_type": "code",
   "execution_count": 278,
   "id": "2b7c5b01-0de3-46ac-b776-ec25319f65e6",
   "metadata": {},
   "outputs": [
    {
     "data": {
      "image/png": "[encoded data removed]",
      "text/plain": [
       "<Figure size 640x480 with 1 Axes>"
      ]
     },
     "metadata": {},
     "output_type": "display_data"
    }
   ],
   "source": [
    "import matplotlib.pyplot as plt\n",
    "import pandas as pd\n",
    "\n",
    "plt.boxplot(final_merged_ds['hum'])\n",
    "plt.title('Box Plot using Matplotlib')\n",
    "plt.ylabel('windspeed')\n",
    "plt.show()"
   ]
  },
  {
   "cell_type": "code",
   "execution_count": null,
   "id": "8f1a0c1b-aca5-45ca-b78c-d83b83d59529",
   "metadata": {},
   "outputs": [],
   "source": []
  },
  {
   "cell_type": "code",
   "execution_count": null,
   "id": "396e98b2-35a5-4baf-9c90-eac6bf2a885e",
   "metadata": {},
   "outputs": [],
   "source": []
  },
  {
   "cell_type": "code",
   "execution_count": null,
   "id": "005dcabb-74a4-45b1-8699-94b6e74dacba",
   "metadata": {},
   "outputs": [],
   "source": []
  },
  {
   "cell_type": "code",
   "execution_count": null,
   "id": "1c2243f3-4ef3-401f-8c2f-a3e69ea61547",
   "metadata": {},
   "outputs": [],
   "source": []
  },
  {
   "cell_type": "code",
   "execution_count": null,
   "id": "8bc0e688-0b07-40fa-bcf7-ee3a6e33db7c",
   "metadata": {},
   "outputs": [],
   "source": []
  },
  {
   "cell_type": "code",
   "execution_count": null,
   "id": "29d91d04-8775-4df9-8a0d-d1bcb8760189",
   "metadata": {},
   "outputs": [],
   "source": []
  }
 ],
 "metadata": {
  "kernelspec": {
   "display_name": "Python 3 (ipykernel)",
   "language": "python",
   "name": "python3"
  },
  "language_info": {
   "codemirror_mode": {
    "name": "ipython",
    "version": 3
   },
   "file_extension": ".py",
   "mimetype": "text/x-python",
   "name": "python",
   "nbconvert_exporter": "python",
   "pygments_lexer": "ipython3",
   "version": "3.12.4"
  }
 },
 "nbformat": 4,
 "nbformat_minor": 5
}
